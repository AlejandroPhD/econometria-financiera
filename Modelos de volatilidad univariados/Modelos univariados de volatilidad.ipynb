{
 "cells": [
  {
   "cell_type": "markdown",
   "metadata": {
    "id": "ZLe3Yybuvfl_"
   },
   "source": [
    "## ECONOMETRÍA FINANCIERA\n",
    "\n",
    "### Modelos univariados de volatilidad\n",
    "\n",
    "Apuntes de: Alejandro Vargas Sanchez, PhD\n",
    "\n",
    "alejandro.vargas@upb.edu"
   ]
  },
  {
   "cell_type": "markdown",
   "metadata": {
    "id": "QGFFHsNZmy4_"
   },
   "source": [
    "**1. INTRODUCCIÓN**"
   ]
  },
  {
   "cell_type": "markdown",
   "metadata": {
    "id": "r6bRur3_KZH9"
   },
   "source": [
    "La modelización de series de tiempo financieras presenta una complejidad significativa, derivada no solo de la diversidad de series en uso (acciones, tipos de cambio, tasas de interés), sino también de la importancia de la frecuencia de las observaciones (segundos, minutos, horas, días, meses, etc.) y la disponibilidad de grandes conjuntos de datos. Esta complejidad se refleja en las regularidades estadísticas o hechos estilizados, como la existencia de una varianza condicional, es decir, una varianza que depende de su propio pasado.\n",
    "\n",
    "Desde el trabajo pionero de Engle en 1982 sobre los modelos **ARCH**, la literatura econométrica ha puesto un énfasis considerable en comprender la dinámica temporal de la volatilidad y en desarrollar herramientas para su medición, modelización y predicción. Estos avances fueron impulsados por la observación empírica de que la volatilidad en los rendimientos de los activos financieros es persistente y condicional, fenómeno observado en diferentes activos, periodos y mercados.\n",
    "\n",
    "La **volatilidad de los retornos de los activos** es un concepto fundamental en finanzas, crucial para la valoración de activos, la construcción de portafolios de inversión y la gestión de riesgos financieros. Por tanto, los **modelos econométricos univariados de volatilidad**, como los modelos **ARCH** y **GARCH**, adquieren una importancia particular. Estos modelos permiten capturar la persistencia y condicionalidad de la volatilidad, ofreciendo herramientas robustas para el análisis y la predicción de riesgos, esenciales para la toma de decisiones financieras informadas.\n",
    "\n",
    "*Engle, R. F. (1982). Autoregressive Conditional Heteroscedasticity with Estimates of the Variance of United Kingdom Inflation. Econometrica, 50(4), 987-1007.*"
   ]
  },
  {
   "cell_type": "markdown",
   "metadata": {
    "id": "nuTcHtlRMLx3"
   },
   "source": [
    "Este documento titulado **\"ECONOMETRÍA FINANCIERA - Modelos univariados de volatilidad\"** comprende una exploración detallada de los modelos de volatilidad univariados en econometría financiera. Este cuaderno está diseñado para proporcionar información y aplicaciones prácticas para la estimación de modelos de volatilidad."
   ]
  },
  {
   "cell_type": "markdown",
   "metadata": {
    "id": "l5_JmoajasyT"
   },
   "source": [
    "**2. IMPORTAR LIBRERÍAS**\n",
    "\n",
    "A continuación, se describen cada una de las librerías utiizadas:\n",
    "\n",
    "**yahoo finance:** se utiliza para poder descargar los datos de mercado de los instrumentos financieros.\n",
    "https://finance.yahoo.com/\n",
    "\n",
    "**pandas:** se utiliza para análisis y manipulación de datos (Series, DataFrame, cleaning, transformation, aggregation, merging).\n",
    "\n",
    "**matplotlib:** se utiliza para realizar gráficas en Python. Proporciona un conjunto completo de herramientas para crear visualizaciones estáticas, interactivas y animadas en varios formatos, incluidos diagramas de líneas, gráficos de barras, histogramas y diagramas de dispersión.\n",
    "\n",
    "**scipy.stats:** proporciona una amplia gama de funciones y métodos estadísticos. Incluye herramientas para estadística descriptiva, distribuciones de probabilidad (tanto continuas como discretas), pruebas estadísticas, funciones de correlación, pruebas de hipótesis, calcular medidas estadísticas y ajustar datos a diversas distribuciones.\n",
    "\n",
    "**numpy:** es una biblioteca fundamental para la computación numérica en Python. Proporciona soporte para matrices, matrices y una amplia gama de funciones matemáticas para operar en estas estructuras de datos. NumPy es muy eficiente para cálculos numéricos, lo que lo hace esencial para tareas de informática científica, análisis de datos y aprendizaje automático. Las características clave incluyen potentes objetos de matriz de n dimensiones, transmisión, funciones de álgebra lineal, generación de números aleatorios e integración con otras bibliotecas de informática científica como SciPy y Pandas.\n",
    "\n",
    "**statsmodels.graphics.tsaplots:** es un módulo dentro de la biblioteca Statsmodels que proporciona herramientas para visualizar datos de series temporales. Incluye funciones para crear gráficos de autocorrelación (ACF) y gráficos de autocorrelación parcial (PACF), que son esenciales para identificar la correlación entre observaciones en una serie de tiempo con diferentes rezagos. Estos gráficos son cruciales para el análisis de series de tiempo, particularmente en la identificación y diagnóstico de modelos, como en el modelado ARIMA que se presenta en la siguiente ecuación:\n",
    "\n",
    "$X_t = c + \\epsilon_t + \\sum_{i=1}^{p} \\phi_i \\cdot X_{t-i} + \\sum_{j=1}^{q} \\theta_j \\cdot \\epsilon_{t-j}$\n",
    "\n",
    "**statsmodels.tsa.stattools:** es un módulo de la biblioteca Statsmodels que ofrece varias herramientas estadísticas para el análisis de series de tiempo. Las funciones clave incluyen autocorrelación y la autocorrelación parcial, adfuller para la prueba aumentada de Dickey-Fuller para verificar la estacionariedad, grangercausalitytests para probar la causalidad de Granger y q_stat para la prueba de Ljung-Box para detectar la autocorrelación, como se presenta en la siguiente ecuación:\n",
    "\n",
    "$\\Delta X_t = \\alpha + \\beta t + \\gamma X_{t-1} + \\sum_{i=1}^{p} \\delta_i \\Delta X_{t-i} + \\epsilon_t$\n",
    "\n",
    "\n",
    "\n"
   ]
  },
  {
   "cell_type": "code",
   "execution_count": 1,
   "metadata": {
    "id": "J-PH3wZPvlFa"
   },
   "outputs": [],
   "source": [
    "import yfinance as yf\n",
    "import pandas as pd\n",
    "import matplotlib.pyplot as plt\n",
    "import scipy.stats as stats\n",
    "import numpy as np\n",
    "from statsmodels.graphics.tsaplots import plot_acf, plot_pacf\n",
    "from statsmodels.tsa.stattools import acf, pacf, q_stat\n",
    "from statsmodels.tsa.stattools import adfuller, kpss\n",
    "import warnings\n",
    "warnings.filterwarnings(\"ignore\")"
   ]
  },
  {
   "cell_type": "markdown",
   "metadata": {
    "id": "4AoV-lH-NDd8"
   },
   "source": [
    "Se puede obtener mayor información sobre la documentación de las librerías en los siguientes enlaces:\n",
    "\n",
    "Pandas: https://pandas.pydata.org/docs/user_guide/index.html\n",
    "\n",
    "NumPy: https://numpy.org/devdocs/user/index.html\n",
    "\n",
    "Matplotlib: https://matplotlib.org/stable/users/explain/quick_start.html\n",
    "\n",
    "Statsmodels: https://www.statsmodels.org/stable/index.html\n",
    "\n",
    "SciPy: https://docs.scipy.org/doc/scipy/\n",
    "\n",
    "yfinance: https://pypi.org/project/yfinance/\n",
    "\n",
    "ARCH: https://arch.readthedocs.io/en/latest/"
   ]
  },
  {
   "cell_type": "markdown",
   "metadata": {
    "id": "HRMfLL0PSdGJ"
   },
   "source": [
    "**3. DESCARGA DE DATOS**"
   ]
  },
  {
   "cell_type": "markdown",
   "metadata": {
    "id": "VXKKpWbnSmT-"
   },
   "source": [
    "**3.1. ELECCIÓN DE LA SERIE DE TIEMPO**"
   ]
  },
  {
   "cell_type": "markdown",
   "metadata": {
    "id": "jlJahd8kbM8t"
   },
   "source": [
    "Se debe elegir un instrumento financiero para descargar su información de mercado:\n",
    "\n",
    "\n",
    "1.   Acciones (Stocks)\n",
    "2.   Futuros (Futures)\n",
    "3.   Indices (Index)\n",
    "4.   Tipos de Cambio (Currencies)\n",
    "5.   Títulos del Tesoro (US Treasuries)\n",
    "6.   Activos digitales (Crypto)\n",
    "\n",
    "Cada instrumento tiene un código o ticker, por ejemplo las acciones de la empresa Coca-Cola tienen el ticker de **KO**, o el tipo de cambio entre el dólar americano y el euro es **EURUSD=X**.\n",
    "\n",
    "Se puede obtener una lista de códigos en el siguiente enlace: https://stockanalysis.com/stocks/\n",
    "\n",
    "Descargaremos los datos y los almacenaremos en **data**, para lo cual se utilizará la función download que requiere el ticker y el periodo de tiempo."
   ]
  },
  {
   "cell_type": "markdown",
   "metadata": {
    "id": "Yxec8cDSSwZa"
   },
   "source": [
    "**3.2. FRECUENCIA Y LONGITUD DE LOS DATOS**"
   ]
  },
  {
   "cell_type": "markdown",
   "metadata": {
    "id": "BPCGQyykMwfd"
   },
   "source": [
    "Al decidir la **frecuencia** de los datos (por ejemplo entre datos diarios y mensuales) para estimar la volatilidad, ambas opciones tienen distintas ventajas y desventajas. Los **datos diarios** ofrecen una vista detallada de la dinámica y la volatilidad del mercado, capturando fluctuaciones diarias y eventos a corto plazo. Estos datos de alta frecuencia permiten una **estimación más precisa de los modelos de volatilidad**, especialmente aquellos que se basan en datos de alta frecuencia como GARCH, y son útiles para la gestión de riesgos y estrategias comerciales a corto plazo debido a su sensibilidad a los cambios repentinos del mercado. Sin embargo, los datos diarios pueden incluir mucho ruido y fluctuaciones no informativas, lo que potencialmente oscurece las tendencias subyacentes, y su análisis puede ser computacionalmente intensivo, lo que requiere modelos sofisticados para filtrar el ruido. Por otro lado, los **datos mensuales** reducen el ruido y las fluctuaciones a corto plazo, proporcionando una imagen más clara de las tendencias y **ciclos a largo plazo**. Es más fácil de manejar y analizar, requiere menos potencia computacional y modelos más simples, y ofrece estimaciones más estables para decisiones de inversión a largo plazo. Sin embargo, la menor frecuencia de los datos mensuales pasa por alto la dinámica diaria del mercado y los eventos de corto plazo, lo que potencialmente pasa por alto importantes picos de volatilidad.\n",
    "\n",
    "Al decidir la  **longitud** de duración del período de muestra para la estimación de la volatilidad, tanto los períodos más largos como los más cortos tienen distintos beneficios e inconvenientes, con un problema subyacente de error de muestreo. Un período de muestra más largo, como **cinco años**, proporciona **solidez al capturar múltiples ciclos de mercado y reducir el impacto de las anomalías, lo que conduce a modelos más confiables y generalizables**. Cubre una gama más amplia de condiciones de mercado, incluidos los mercados alcistas y bajistas, y ayuda a estimar tendencias y patrones de volatilidad a largo plazo. Sin embargo, los datos más antiguos podrían volverse menos relevantes para las condiciones actuales del mercado, especialmente en mercados que cambian rápidamente, y el manejo de un conjunto de datos más grande puede ser computacionalmente intensivo y requerir más almacenamiento. Por otro lado, un período de muestra más corto, como tres años, ofrece relevancia al centrarse en datos más recientes, lo que hace que sea probable que se alinee mejor con las condiciones y tendencias actuales del mercado. Es más fácil de manejar, requiere menos potencia computacional y almacenamiento y permite que los modelos se adapten más rápidamente a las condiciones cambiantes del mercado. Sin embargo, los períodos más cortos capturan menos ciclos de mercado, lo que puede conducir a modelos menos sólidos y confiables, y las estimaciones podrían ser más sensibles a anomalías recientes, lo que resultaría en una mayor varianza y menos estabilidad en el tiempo. Según Poon y Granger (2003), períodos de muestra más largos ayudan a estabilizar las estimaciones de los modelos de volatilidad, proporcionando pronósticos más confiables, mientras que Hamilton (1994) destaca que los mercados financieros experimentan regímenes diferentes, y una muestra más larga puede capturar estos cambios, haciendo que los modelos sean más robusto. Sin embargo, ambos enfoques deben considerar cuidadosamente el equilibrio entre el error de muestreo, la relevancia y la solidez para garantizar una estimación precisa y confiable de la volatilidad.\n",
    "\n",
    "*Poon, S.-H., & Granger, C. W. J. (2003). Forecasting volatility in financial markets: A review. Journal of Economic Literature, 41(2), 478-539.*\n",
    "\n",
    "*Hamilton, J. D. (1994). Time series analysis. Princeton University Press.*"
   ]
  },
  {
   "cell_type": "markdown",
   "metadata": {
    "id": "DC5jDxUMTFla"
   },
   "source": [
    "**3.3. DESCARGA**"
   ]
  },
  {
   "cell_type": "markdown",
   "metadata": {
    "id": "zSfE12TtS9Xe"
   },
   "source": [
    "La función `yf.download` te permite configurar la descarga con diferentes opciones.\n",
    "\n",
    "Usando period: El parámetro de período le permite especificar una cantidad de tiempo fija en relación con la fecha actual. \n",
    "\n",
    "Los valores posibles son:\n",
    "\n",
    "'1d': 1 day\n",
    "\n",
    "'5d': 5 days\n",
    "\n",
    "'1mo': 1 month\n",
    "\n",
    "'3mo': 3 months\n",
    "\n",
    "'6mo': 6 months\n",
    "\n",
    "'1y': 1 year\n",
    "\n",
    "'2y': 2 years\n",
    "\n",
    "'5y': 5 years\n",
    "\n",
    "'10y': 10 years\n",
    "\n",
    "'ytd': Year to date (from the beginning of the current year to the current date)\n",
    "\n",
    "'max': Maximum available data\n",
    "\n",
    "Usando inicio y fin: Alternativamente, puede especificar rangos de fechas exactos utilizando los parámetros de inicio y finalización. Estos parámetros aceptan fechas en el formato 'YYYY-MM-DD' u objetos de fecha y hora.\n",
    "\n",
    "start: (e.g., '2020-01-01') end: (e.g., '2021-01-01')\n",
    "\n",
    "data = `yf.download('TSLA', period='1y')`\n",
    "\n",
    "data = `yf.download('TSLA', start='2020-01-01', end='2021-01-01')`"
   ]
  },
  {
   "cell_type": "markdown",
   "metadata": {},
   "source": [
    "**EN EL SIGUIENTE CÓDIGO SE PUEDE CAMBIAR EL TICKER DE LA EMPRESA**"
   ]
  },
  {
   "cell_type": "code",
   "execution_count": 2,
   "metadata": {
    "colab": {
     "base_uri": "https://localhost:8080/"
    },
    "executionInfo": {
     "elapsed": 1224,
     "status": "ok",
     "timestamp": 1717370558832,
     "user": {
      "displayName": "Alejandro Vargas",
      "userId": "05034752351904629076"
     },
     "user_tz": 240
    },
    "id": "NKOXbpuTwFLO",
    "outputId": "c716ab55-d0c4-4bc0-fef0-cdaa8cdf30c7"
   },
   "outputs": [
    {
     "name": "stdout",
     "output_type": "stream",
     "text": [
      "[*********************100%***********************]  1 of 1 completed\n"
     ]
    }
   ],
   "source": [
    "#Descargamos datos diarios para un periodo de 5 años\n",
    "ticker = \"AMZN\" #Puedes cambiar el ticker a la acción que desees\n",
    "data = yf.download(ticker, period=\"5y\")"
   ]
  },
  {
   "cell_type": "code",
   "execution_count": 3,
   "metadata": {
    "colab": {
     "base_uri": "https://localhost:8080/",
     "height": 455
    },
    "executionInfo": {
     "elapsed": 20,
     "status": "ok",
     "timestamp": 1717370558833,
     "user": {
      "displayName": "Alejandro Vargas",
      "userId": "05034752351904629076"
     },
     "user_tz": 240
    },
    "id": "YOS2W9Osw1wc",
    "outputId": "aa03c6b2-0849-4a2a-e911-bf526dd8d742"
   },
   "outputs": [
    {
     "data": {
      "text/html": [
       "<div>\n",
       "<style scoped>\n",
       "    .dataframe tbody tr th:only-of-type {\n",
       "        vertical-align: middle;\n",
       "    }\n",
       "\n",
       "    .dataframe tbody tr th {\n",
       "        vertical-align: top;\n",
       "    }\n",
       "\n",
       "    .dataframe thead th {\n",
       "        text-align: right;\n",
       "    }\n",
       "</style>\n",
       "<table border=\"1\" class=\"dataframe\">\n",
       "  <thead>\n",
       "    <tr style=\"text-align: right;\">\n",
       "      <th></th>\n",
       "      <th>Open</th>\n",
       "      <th>High</th>\n",
       "      <th>Low</th>\n",
       "      <th>Close</th>\n",
       "      <th>Adj Close</th>\n",
       "      <th>Volume</th>\n",
       "    </tr>\n",
       "    <tr>\n",
       "      <th>Date</th>\n",
       "      <th></th>\n",
       "      <th></th>\n",
       "      <th></th>\n",
       "      <th></th>\n",
       "      <th></th>\n",
       "      <th></th>\n",
       "    </tr>\n",
       "  </thead>\n",
       "  <tbody>\n",
       "    <tr>\n",
       "      <th>2019-06-10</th>\n",
       "      <td>91.099998</td>\n",
       "      <td>94.243500</td>\n",
       "      <td>90.900002</td>\n",
       "      <td>93.031502</td>\n",
       "      <td>93.031502</td>\n",
       "      <td>107420000</td>\n",
       "    </tr>\n",
       "    <tr>\n",
       "      <th>2019-06-11</th>\n",
       "      <td>94.162498</td>\n",
       "      <td>94.684998</td>\n",
       "      <td>92.900002</td>\n",
       "      <td>93.184998</td>\n",
       "      <td>93.184998</td>\n",
       "      <td>80854000</td>\n",
       "    </tr>\n",
       "    <tr>\n",
       "      <th>2019-06-12</th>\n",
       "      <td>92.698997</td>\n",
       "      <td>93.250000</td>\n",
       "      <td>92.219002</td>\n",
       "      <td>92.765999</td>\n",
       "      <td>92.765999</td>\n",
       "      <td>53566000</td>\n",
       "    </tr>\n",
       "    <tr>\n",
       "      <th>2019-06-13</th>\n",
       "      <td>93.335999</td>\n",
       "      <td>94.154503</td>\n",
       "      <td>93.111000</td>\n",
       "      <td>93.514999</td>\n",
       "      <td>93.514999</td>\n",
       "      <td>55916000</td>\n",
       "    </tr>\n",
       "    <tr>\n",
       "      <th>2019-06-14</th>\n",
       "      <td>93.199997</td>\n",
       "      <td>93.800003</td>\n",
       "      <td>92.949997</td>\n",
       "      <td>93.483498</td>\n",
       "      <td>93.483498</td>\n",
       "      <td>57024000</td>\n",
       "    </tr>\n",
       "    <tr>\n",
       "      <th>...</th>\n",
       "      <td>...</td>\n",
       "      <td>...</td>\n",
       "      <td>...</td>\n",
       "      <td>...</td>\n",
       "      <td>...</td>\n",
       "      <td>...</td>\n",
       "    </tr>\n",
       "    <tr>\n",
       "      <th>2024-06-03</th>\n",
       "      <td>177.699997</td>\n",
       "      <td>178.699997</td>\n",
       "      <td>175.919998</td>\n",
       "      <td>178.339996</td>\n",
       "      <td>178.339996</td>\n",
       "      <td>30786600</td>\n",
       "    </tr>\n",
       "    <tr>\n",
       "      <th>2024-06-04</th>\n",
       "      <td>177.639999</td>\n",
       "      <td>179.820007</td>\n",
       "      <td>176.440002</td>\n",
       "      <td>179.339996</td>\n",
       "      <td>179.339996</td>\n",
       "      <td>27198400</td>\n",
       "    </tr>\n",
       "    <tr>\n",
       "      <th>2024-06-05</th>\n",
       "      <td>180.100006</td>\n",
       "      <td>181.500000</td>\n",
       "      <td>178.750000</td>\n",
       "      <td>181.279999</td>\n",
       "      <td>181.279999</td>\n",
       "      <td>32116400</td>\n",
       "    </tr>\n",
       "    <tr>\n",
       "      <th>2024-06-06</th>\n",
       "      <td>181.750000</td>\n",
       "      <td>185.000000</td>\n",
       "      <td>181.490005</td>\n",
       "      <td>185.000000</td>\n",
       "      <td>185.000000</td>\n",
       "      <td>31371200</td>\n",
       "    </tr>\n",
       "    <tr>\n",
       "      <th>2024-06-07</th>\n",
       "      <td>184.899994</td>\n",
       "      <td>186.289993</td>\n",
       "      <td>183.360001</td>\n",
       "      <td>184.300003</td>\n",
       "      <td>184.300003</td>\n",
       "      <td>27977300</td>\n",
       "    </tr>\n",
       "  </tbody>\n",
       "</table>\n",
       "<p>1259 rows × 6 columns</p>\n",
       "</div>"
      ],
      "text/plain": [
       "                  Open        High         Low       Close   Adj Close  \\\n",
       "Date                                                                     \n",
       "2019-06-10   91.099998   94.243500   90.900002   93.031502   93.031502   \n",
       "2019-06-11   94.162498   94.684998   92.900002   93.184998   93.184998   \n",
       "2019-06-12   92.698997   93.250000   92.219002   92.765999   92.765999   \n",
       "2019-06-13   93.335999   94.154503   93.111000   93.514999   93.514999   \n",
       "2019-06-14   93.199997   93.800003   92.949997   93.483498   93.483498   \n",
       "...                ...         ...         ...         ...         ...   \n",
       "2024-06-03  177.699997  178.699997  175.919998  178.339996  178.339996   \n",
       "2024-06-04  177.639999  179.820007  176.440002  179.339996  179.339996   \n",
       "2024-06-05  180.100006  181.500000  178.750000  181.279999  181.279999   \n",
       "2024-06-06  181.750000  185.000000  181.490005  185.000000  185.000000   \n",
       "2024-06-07  184.899994  186.289993  183.360001  184.300003  184.300003   \n",
       "\n",
       "               Volume  \n",
       "Date                   \n",
       "2019-06-10  107420000  \n",
       "2019-06-11   80854000  \n",
       "2019-06-12   53566000  \n",
       "2019-06-13   55916000  \n",
       "2019-06-14   57024000  \n",
       "...               ...  \n",
       "2024-06-03   30786600  \n",
       "2024-06-04   27198400  \n",
       "2024-06-05   32116400  \n",
       "2024-06-06   31371200  \n",
       "2024-06-07   27977300  \n",
       "\n",
       "[1259 rows x 6 columns]"
      ]
     },
     "execution_count": 3,
     "metadata": {},
     "output_type": "execute_result"
    }
   ],
   "source": [
    "data"
   ]
  },
  {
   "cell_type": "markdown",
   "metadata": {
    "id": "VixsuHnSTMJw"
   },
   "source": [
    "**3.4. VALORES DE CIERRE DE MERCADO**"
   ]
  },
  {
   "cell_type": "markdown",
   "metadata": {
    "id": "nJTp35LtmqP2"
   },
   "source": [
    "Creamos una estructura de datos (DataFrame) y la llamaremos `df`, en la cual extraeremos los precios o valores de cierre de mercado.\n",
    "\n",
    "Cada fila estará relacionada a una fecha, por lo que usaremos pandas para que el `index` muestre las fechas de los precios."
   ]
  },
  {
   "cell_type": "code",
   "execution_count": 4,
   "metadata": {
    "colab": {
     "base_uri": "https://localhost:8080/",
     "height": 237
    },
    "executionInfo": {
     "elapsed": 19,
     "status": "ok",
     "timestamp": 1717370558833,
     "user": {
      "displayName": "Alejandro Vargas",
      "userId": "05034752351904629076"
     },
     "user_tz": 240
    },
    "id": "F4i9o3uZw5rP",
    "outputId": "4659240c-8182-4b98-cf51-f8072b65b011"
   },
   "outputs": [
    {
     "data": {
      "text/html": [
       "<div>\n",
       "<style scoped>\n",
       "    .dataframe tbody tr th:only-of-type {\n",
       "        vertical-align: middle;\n",
       "    }\n",
       "\n",
       "    .dataframe tbody tr th {\n",
       "        vertical-align: top;\n",
       "    }\n",
       "\n",
       "    .dataframe thead th {\n",
       "        text-align: right;\n",
       "    }\n",
       "</style>\n",
       "<table border=\"1\" class=\"dataframe\">\n",
       "  <thead>\n",
       "    <tr style=\"text-align: right;\">\n",
       "      <th></th>\n",
       "      <th>Close</th>\n",
       "    </tr>\n",
       "    <tr>\n",
       "      <th>Date</th>\n",
       "      <th></th>\n",
       "    </tr>\n",
       "  </thead>\n",
       "  <tbody>\n",
       "    <tr>\n",
       "      <th>2019-06-10</th>\n",
       "      <td>93.031502</td>\n",
       "    </tr>\n",
       "    <tr>\n",
       "      <th>2019-06-11</th>\n",
       "      <td>93.184998</td>\n",
       "    </tr>\n",
       "    <tr>\n",
       "      <th>2019-06-12</th>\n",
       "      <td>92.765999</td>\n",
       "    </tr>\n",
       "    <tr>\n",
       "      <th>2019-06-13</th>\n",
       "      <td>93.514999</td>\n",
       "    </tr>\n",
       "    <tr>\n",
       "      <th>2019-06-14</th>\n",
       "      <td>93.483498</td>\n",
       "    </tr>\n",
       "  </tbody>\n",
       "</table>\n",
       "</div>"
      ],
      "text/plain": [
       "                Close\n",
       "Date                 \n",
       "2019-06-10  93.031502\n",
       "2019-06-11  93.184998\n",
       "2019-06-12  92.765999\n",
       "2019-06-13  93.514999\n",
       "2019-06-14  93.483498"
      ]
     },
     "execution_count": 4,
     "metadata": {},
     "output_type": "execute_result"
    }
   ],
   "source": [
    "df=data[['Close']]\n",
    "df.index=pd.to_datetime(df.index)\n",
    "df.head()"
   ]
  },
  {
   "cell_type": "markdown",
   "metadata": {
    "id": "Yhb9_1DkreA3"
   },
   "source": [
    "**4. ANÁLISIS INICIAL DE LOS DATOS**"
   ]
  },
  {
   "cell_type": "markdown",
   "metadata": {
    "id": "xQpx0t_7SR8J"
   },
   "source": [
    "**4.1. GRÁFICAS**"
   ]
  },
  {
   "cell_type": "markdown",
   "metadata": {
    "id": "PdHVz5YWne7Z"
   },
   "source": [
    "Vamos a graficar la serie de tiempo, usando la función `plt.plot` de la librería **matplotlib**.\n",
    "\n",
    "Definimos el tamaño utilizando `figsize`: 10 de ancho y 5 de alto."
   ]
  },
  {
   "cell_type": "code",
   "execution_count": 5,
   "metadata": {
    "colab": {
     "base_uri": "https://localhost:8080/",
     "height": 487
    },
    "executionInfo": {
     "elapsed": 1520,
     "status": "ok",
     "timestamp": 1717370560335,
     "user": {
      "displayName": "Alejandro Vargas",
      "userId": "05034752351904629076"
     },
     "user_tz": 240
    },
    "id": "jC5WG5XryqhU",
    "outputId": "9d348793-b884-4e03-d20b-4e51d7f264b0"
   },
   "outputs": [
    {
     "data": {
      "image/png": "[encoded data removed]",
      "text/plain": [
       "<Figure size 720x360 with 1 Axes>"
      ]
     },
     "metadata": {
      "needs_background": "light"
     },
     "output_type": "display_data"
    }
   ],
   "source": [
    "plt.figure(figsize=(10,5))\n",
    "plt.plot(df['Close'])\n",
    "plt.title('Serie de tiempo de los precios de cierre de ' + ticker)\n",
    "plt.xlabel('Fecha')\n",
    "plt.ylabel('Precio de cierre')\n",
    "plt.show()"
   ]
  },
  {
   "cell_type": "markdown",
   "metadata": {
    "id": "Mm9OsS0moDoY"
   },
   "source": [
    "Vamos a graficar un diagrama de distribución de frecuencias, usando la función `plt.hist`.\n",
    "\n",
    "Se dividirá en un total de 50 intervalos (`bins=50`) de igual ancho para el histograma.\n",
    "\n"
   ]
  },
  {
   "cell_type": "code",
   "execution_count": 6,
   "metadata": {
    "colab": {
     "base_uri": "https://localhost:8080/",
     "height": 488
    },
    "executionInfo": {
     "elapsed": 980,
     "status": "ok",
     "timestamp": 1717370561301,
     "user": {
      "displayName": "Alejandro Vargas",
      "userId": "05034752351904629076"
     },
     "user_tz": 240
    },
    "id": "n9iKz5ANzHjx",
    "outputId": "f2ab342e-99a4-4eee-8388-30ca5486ed25"
   },
   "outputs": [
    {
     "data": {
      "image/png": "[encoded data removed]",
      "text/plain": [
       "<Figure size 720x360 with 1 Axes>"
      ]
     },
     "metadata": {
      "needs_background": "light"
     },
     "output_type": "display_data"
    }
   ],
   "source": [
    "plt.figure(figsize=(10,5))\n",
    "plt.hist(df['Close'], bins=50)\n",
    "plt.title('Distribución de frecuencias de los precios de cierre de ' + ticker)\n",
    "plt.xlabel('Precio de cierre')\n",
    "plt.ylabel('Frecuencia')\n",
    "plt.show()"
   ]
  },
  {
   "cell_type": "markdown",
   "metadata": {
    "id": "j-KLdzDCSVnJ"
   },
   "source": [
    "**4.2. ESTADÍSTICAS DESCRIPTIVAS**"
   ]
  },
  {
   "cell_type": "markdown",
   "metadata": {
    "id": "Qsc0XOVapF-Y"
   },
   "source": [
    "Utilizado la librería de **pandas** a continuación se presenta una tabla con las estadísticas descriptivas."
   ]
  },
  {
   "cell_type": "code",
   "execution_count": 7,
   "metadata": {
    "colab": {
     "base_uri": "https://localhost:8080/",
     "height": 300
    },
    "executionInfo": {
     "elapsed": 25,
     "status": "ok",
     "timestamp": 1717370561302,
     "user": {
      "displayName": "Alejandro Vargas",
      "userId": "05034752351904629076"
     },
     "user_tz": 240
    },
    "id": "beFlA0IYzqMI",
    "outputId": "d0ee1241-c221-47e2-b08e-00da0280b498"
   },
   "outputs": [
    {
     "data": {
      "text/html": [
       "<div>\n",
       "<style scoped>\n",
       "    .dataframe tbody tr th:only-of-type {\n",
       "        vertical-align: middle;\n",
       "    }\n",
       "\n",
       "    .dataframe tbody tr th {\n",
       "        vertical-align: top;\n",
       "    }\n",
       "\n",
       "    .dataframe thead th {\n",
       "        text-align: right;\n",
       "    }\n",
       "</style>\n",
       "<table border=\"1\" class=\"dataframe\">\n",
       "  <thead>\n",
       "    <tr style=\"text-align: right;\">\n",
       "      <th></th>\n",
       "      <th>Close</th>\n",
       "    </tr>\n",
       "  </thead>\n",
       "  <tbody>\n",
       "    <tr>\n",
       "      <th>count</th>\n",
       "      <td>1259.000000</td>\n",
       "    </tr>\n",
       "    <tr>\n",
       "      <th>mean</th>\n",
       "      <td>135.173699</td>\n",
       "    </tr>\n",
       "    <tr>\n",
       "      <th>std</th>\n",
       "      <td>31.174739</td>\n",
       "    </tr>\n",
       "    <tr>\n",
       "      <th>min</th>\n",
       "      <td>81.820000</td>\n",
       "    </tr>\n",
       "    <tr>\n",
       "      <th>25%</th>\n",
       "      <td>102.934998</td>\n",
       "    </tr>\n",
       "    <tr>\n",
       "      <th>50%</th>\n",
       "      <td>138.410004</td>\n",
       "    </tr>\n",
       "    <tr>\n",
       "      <th>75%</th>\n",
       "      <td>162.524498</td>\n",
       "    </tr>\n",
       "    <tr>\n",
       "      <th>max</th>\n",
       "      <td>189.500000</td>\n",
       "    </tr>\n",
       "  </tbody>\n",
       "</table>\n",
       "</div>"
      ],
      "text/plain": [
       "             Close\n",
       "count  1259.000000\n",
       "mean    135.173699\n",
       "std      31.174739\n",
       "min      81.820000\n",
       "25%     102.934998\n",
       "50%     138.410004\n",
       "75%     162.524498\n",
       "max     189.500000"
      ]
     },
     "execution_count": 7,
     "metadata": {},
     "output_type": "execute_result"
    }
   ],
   "source": [
    "df.describe()"
   ]
  },
  {
   "cell_type": "markdown",
   "metadata": {
    "id": "E8XS321nq2CD"
   },
   "source": [
    "Usando la librería de **pandas** podemos presentar otro resumen de estadísticas descriptivas."
   ]
  },
  {
   "cell_type": "code",
   "execution_count": 8,
   "metadata": {
    "colab": {
     "base_uri": "https://localhost:8080/"
    },
    "executionInfo": {
     "elapsed": 24,
     "status": "ok",
     "timestamp": 1717370561302,
     "user": {
      "displayName": "Alejandro Vargas",
      "userId": "05034752351904629076"
     },
     "user_tz": 240
    },
    "id": "Wza3Mb270D7X",
    "outputId": "31518d35-764e-4cc3-dd19-46e2010664c5"
   },
   "outputs": [
    {
     "name": "stdout",
     "output_type": "stream",
     "text": [
      "Número de observaciones:1259\n",
      "Periodo de los datos: 1824 days 00:00:00\n",
      "Promedio: 135.17369855255055\n",
      "Mediana: 138.41000366210938\n",
      "Máximo: 189.5\n",
      "Mínimo: 81.81999969482422\n",
      "Desviación estándar: 31.174738738144324\n",
      "Skewness: -0.149450188924709\n",
      "Kurtosis: -1.3820282406038538\n",
      "Estadístico Jarque-Bera: 104.88222744061382\n",
      "Valor p de Jarque-Bera: 0.0\n"
     ]
    }
   ],
   "source": [
    "n_obs = len(df)\n",
    "period = df.index[-1] - df.index[0]\n",
    "mean = df['Close'].mean()\n",
    "median = df['Close'].median()\n",
    "max_val = df['Close'].max()\n",
    "min_val = df['Close'].min()\n",
    "std_dev = df['Close'].std()\n",
    "skewness = stats.skew(df['Close'])\n",
    "kurtosis = stats.kurtosis(df['Close'])\n",
    "jb_stat, jb_p_value = stats.jarque_bera(df['Close'])\n",
    "\n",
    "print(f\"Número de observaciones:{n_obs}\")\n",
    "print(f\"Periodo de los datos: {period}\")\n",
    "print(f\"Promedio: {mean}\")\n",
    "print(f\"Mediana: {median}\")\n",
    "print(f\"Máximo: {max_val}\")\n",
    "print(f\"Mínimo: {min_val}\")\n",
    "print(f\"Desviación estándar: {std_dev}\")\n",
    "print(f\"Skewness: {skewness}\")\n",
    "print(f\"Kurtosis: {kurtosis}\")\n",
    "print(f\"Estadístico Jarque-Bera: {jb_stat}\")\n",
    "print(f\"Valor p de Jarque-Bera: {jb_p_value}\")"
   ]
  },
  {
   "cell_type": "markdown",
   "metadata": {
    "id": "dykargkfrnIP"
   },
   "source": [
    "**5. ESTACIONARIEDAD DE LA SERIE DE TIEMPO**"
   ]
  },
  {
   "cell_type": "markdown",
   "metadata": {
    "id": "84uvf57uSL4_"
   },
   "source": [
    "**5.1. CORRELOGRAMAS**"
   ]
  },
  {
   "cell_type": "markdown",
   "metadata": {
    "id": "MnE8uqD0rwJP"
   },
   "source": [
    "Para evaluar la estacionariedad de la serie de tiempo se utilizará la librería **statsmodels** con la cual se graficará las funciones de Autocorrelación ACF y Autorrelación Parcial PAC.\n",
    "\n",
    "**Nota:**\n",
    "\n",
    "Definir el número de rezagos para ACF (función de autocorrelación) y PACF (función de autocorrelación parcial) implica comprender la frecuencia de sus datos, el objetivo de su análisis, la complejidad del modelo, la estacionalidad y la inspección visual.\n",
    "\n",
    "Para los datos diarios, se podría considerar más rezagos para capturar patrones a más largo plazo, mientras que para los datos mensuales, pueden ser suficientes menos rezagos.\n",
    "\n",
    "Los pronósticos a corto plazo generalmente requieren menos rezagos, mientras que la identificación de patrones o estacionalidades a largo plazo puede requerir más.\n",
    "\n",
    "Se debe tener cuidado con el sobreajuste con demasiados rezagos y el desajuste con muy pocos. Un enfoque práctico comienza con un número predeterminado de rezagos (por ejemplo, 20 o 40), seguido de una inspección visual de los gráficos ACF y PACF para ver dónde caen las autocorrelaciones significativas y luego refinar el número de retrasos en función de esta inspección. Este método le garantiza capturar los patrones esenciales en sus datos sin complicar demasiado su modelo.\n",
    "\n",
    "Puede consultar:\n",
    "\n",
    "*Time Series Analysis: Forecasting and Control by George E. P. Box, Gwilym M. Jenkins, Gregory C. Reinsel, and Greta M. Ljung.*\n",
    "\n",
    "*Box, G. E. P., Jenkins, G. M., Reinsel, G. C., & Ljung, G. M. (2015). Time Series Analysis: Forecasting and Control (5th ed.). Wiley.*"
   ]
  },
  {
   "cell_type": "code",
   "execution_count": 9,
   "metadata": {
    "colab": {
     "base_uri": "https://localhost:8080/",
     "height": 887
    },
    "executionInfo": {
     "elapsed": 679,
     "status": "ok",
     "timestamp": 1717370561958,
     "user": {
      "displayName": "Alejandro Vargas",
      "userId": "05034752351904629076"
     },
     "user_tz": 240
    },
    "id": "za1Q4WqU2vdh",
    "outputId": "20c10451-a335-4ec8-a876-01bf7115254f"
   },
   "outputs": [
    {
     "data": {
      "image/png": "[encoded data removed]",
      "text/plain": [
       "<Figure size 432x288 with 1 Axes>"
      ]
     },
     "metadata": {
      "needs_background": "light"
     },
     "output_type": "display_data"
    },
    {
     "data": {
      "image/png": "[encoded data removed]",
      "text/plain": [
       "<Figure size 432x288 with 1 Axes>"
      ]
     },
     "metadata": {
      "needs_background": "light"
     },
     "output_type": "display_data"
    }
   ],
   "source": [
    "plot_acf(df['Close'], lags=40)\n",
    "plt.show()\n",
    "plot_pacf(df['Close'], lags=40)\n",
    "plt.show()"
   ]
  },
  {
   "cell_type": "markdown",
   "metadata": {
    "id": "s2URCftSt79j"
   },
   "source": [
    "Utilizando la librería `statsmodels` se calcularán y almacenarán los valores de ACF, PACF, el valor del estadístico Q (Ljung-Box Q statistic) y su valor en probabilidad."
   ]
  },
  {
   "cell_type": "code",
   "execution_count": 10,
   "metadata": {
    "id": "7sBmyL8x3bF6"
   },
   "outputs": [],
   "source": [
    "acf_vals = acf(df['Close'], nlags=40)\n",
    "pacf_vals = pacf(df['Close'], nlags=40)"
   ]
  },
  {
   "cell_type": "code",
   "execution_count": 11,
   "metadata": {
    "id": "HQpk3JQ84Ulg"
   },
   "outputs": [],
   "source": [
    "q_stats = q_stat(acf_vals[1:], len(df['Close']))\n",
    "q_stat_vals = q_stats[0]\n",
    "p_values = q_stats[1]"
   ]
  },
  {
   "cell_type": "markdown",
   "metadata": {
    "id": "1-hX4WeAu82y"
   },
   "source": [
    "Se va a crear un **diccionario** {} con los valores calculados que se llamará `acf_pacf_df`.\n",
    "\n",
    "El uso de un diccionario en este código permite la creación de un `DataFrame` que organiza múltiples matrices relacionadas en columnas, lo que hace que los datos sean fáciles de analizar y visualizar. Las claves del diccionario ('Lag', 'ACF', 'PACF', 'Q-STAT', 'PROB') se convierten en los encabezados de las columnas y los valores correspondientes (matrices) son los datos de cada columna. Este formato estructurado permite la manipulación y el acceso eficiente a los datos mediante Pandas.\n",
    "\n",
    "**Nota:**\n",
    "Un diccionario en Python es una colección de pares clave-valor, donde cada clave es única y se asigna a un valor correspondiente. Permite la recuperación eficiente de datos por clave y se define usando llaves {} con claves y valores separados por dos puntos, así: {\"key1\": \"value1\", \"key2\": \"value2\"}."
   ]
  },
  {
   "cell_type": "code",
   "execution_count": 12,
   "metadata": {
    "id": "DdBiawc-3tds"
   },
   "outputs": [],
   "source": [
    "acf_pacf_df = pd.DataFrame({\n",
    "    'Lag': range(1,41),\n",
    "    'ACF': acf_vals[1:],\n",
    "    'PACF': pacf_vals[1:],\n",
    "    'Q-STAT': q_stat_vals,\n",
    "    'PROB': p_values\n",
    "})"
   ]
  },
  {
   "cell_type": "code",
   "execution_count": 13,
   "metadata": {
    "colab": {
     "base_uri": "https://localhost:8080/"
    },
    "executionInfo": {
     "elapsed": 10,
     "status": "ok",
     "timestamp": 1717370561959,
     "user": {
      "displayName": "Alejandro Vargas",
      "userId": "05034752351904629076"
     },
     "user_tz": 240
    },
    "id": "CHTczU5O307i",
    "outputId": "2b25f2ee-0412-47e8-d4b5-f3d84f45ae9c"
   },
   "outputs": [
    {
     "name": "stdout",
     "output_type": "stream",
     "text": [
      "    Lag       ACF      PACF        Q-STAT           PROB\n",
      "0     1  0.993958  0.994748   1246.797592  4.121329e-273\n",
      "1     2  0.988085  0.012822   2479.886683   0.000000e+00\n",
      "2     3  0.982404  0.015226   3699.808069   0.000000e+00\n",
      "3     4  0.977149  0.038117   4907.674939   0.000000e+00\n",
      "4     5  0.971502 -0.039055   6102.572116   0.000000e+00\n",
      "5     6  0.966111  0.021805   7285.189327   0.000000e+00\n",
      "6     7  0.960669 -0.007108   8455.453817   0.000000e+00\n",
      "7     8  0.955152 -0.012593   9613.239872   0.000000e+00\n",
      "8     9  0.949985  0.033541  10759.450293   0.000000e+00\n",
      "9    10  0.944649 -0.020933  11893.728048   0.000000e+00\n",
      "10   11  0.939478  0.013971  13016.521488   0.000000e+00\n",
      "11   12  0.934120 -0.018220  14127.432989   0.000000e+00\n",
      "12   13  0.928952  0.011072  15226.968864   0.000000e+00\n",
      "13   14  0.923440 -0.032234  16314.367946   0.000000e+00\n",
      "14   15  0.917922 -0.007824  17389.674100   0.000000e+00\n",
      "15   16  0.912839  0.040837  18453.960365   0.000000e+00\n",
      "16   17  0.907698 -0.011217  19507.139368   0.000000e+00\n",
      "17   18  0.902581  0.002516  20549.315900   0.000000e+00\n",
      "18   19  0.897169 -0.028532  21579.862615   0.000000e+00\n",
      "19   20  0.891799 -0.005241  22598.932320   0.000000e+00\n",
      "20   21  0.886575  0.015480  23606.911195   0.000000e+00\n",
      "21   22  0.881552  0.010334  24604.306413   0.000000e+00\n",
      "22   23  0.876693  0.017622  25591.534023   0.000000e+00\n",
      "23   24  0.871703 -0.013663  26568.345191   0.000000e+00\n",
      "24   25  0.867004  0.025852  27535.436512   0.000000e+00\n",
      "25   26  0.862818  0.050091  28493.988542   0.000000e+00\n",
      "26   27  0.859201  0.051476  29445.292458   0.000000e+00\n",
      "27   28  0.854966 -0.053291  30388.008530   0.000000e+00\n",
      "28   29  0.850493 -0.028069  31321.643854   0.000000e+00\n",
      "29   30  0.845839 -0.019581  32245.841099   0.000000e+00\n",
      "30   31  0.841705  0.043447  33161.771878   0.000000e+00\n",
      "31   32  0.836951 -0.059827  34068.123494   0.000000e+00\n",
      "32   33  0.832212 -0.002306  34964.970916   0.000000e+00\n",
      "33   34  0.827289 -0.021593  35851.962654   0.000000e+00\n",
      "34   35  0.822776  0.033314  36730.019997   0.000000e+00\n",
      "35   36  0.817911 -0.035553  37598.433534   0.000000e+00\n",
      "36   37  0.812802 -0.028768  38456.733504   0.000000e+00\n",
      "37   38  0.807948  0.021810  39305.506603   0.000000e+00\n",
      "38   39  0.803017 -0.015058  40144.639655   0.000000e+00\n",
      "39   40  0.798121 -0.004515  40974.251558   0.000000e+00\n"
     ]
    }
   ],
   "source": [
    "print(acf_pacf_df)"
   ]
  },
  {
   "cell_type": "markdown",
   "metadata": {
    "id": "WhmtS8ufvrk6"
   },
   "source": [
    "Usando la libreria **pandas** almacenaremos el DataFrame en un archivo con formarto CSV."
   ]
  },
  {
   "cell_type": "code",
   "execution_count": 14,
   "metadata": {
    "id": "qJN64q204tkQ"
   },
   "outputs": [],
   "source": [
    "acf_pacf_df.to_csv('acf_pacf_table.csv', index=False)"
   ]
  },
  {
   "cell_type": "markdown",
   "metadata": {
    "id": "3xVX_6z6TsP4"
   },
   "source": [
    "**5.2. SERIE EN PRIMERA DIFERENCIA**"
   ]
  },
  {
   "cell_type": "markdown",
   "metadata": {
    "id": "RPgVyT6sC4ha"
   },
   "source": [
    "Utilizado la libreria de **pandas** vamos a generar una serie de tiempo `df_diff` con las diferencias **diff** a partir de los precios del instrumento.\n",
    "\n",
    "Posteriormente se graficará ACF y PACF."
   ]
  },
  {
   "cell_type": "code",
   "execution_count": 15,
   "metadata": {
    "colab": {
     "base_uri": "https://localhost:8080/",
     "height": 887
    },
    "executionInfo": {
     "elapsed": 1072,
     "status": "ok",
     "timestamp": 1717370563022,
     "user": {
      "displayName": "Alejandro Vargas",
      "userId": "05034752351904629076"
     },
     "user_tz": 240
    },
    "id": "uJzfIjgvCxp8",
    "outputId": "fa532f42-58de-4dd1-ea87-31b196e21bb6"
   },
   "outputs": [
    {
     "data": {
      "image/png": "[encoded data removed]",
      "text/plain": [
       "<Figure size 432x288 with 1 Axes>"
      ]
     },
     "metadata": {
      "needs_background": "light"
     },
     "output_type": "display_data"
    },
    {
     "data": {
      "image/png": "[encoded data removed]",
      "text/plain": [
       "<Figure size 432x288 with 1 Axes>"
      ]
     },
     "metadata": {
      "needs_background": "light"
     },
     "output_type": "display_data"
    }
   ],
   "source": [
    "df_diff = df['Close'].diff().dropna()\n",
    "plot_acf(df_diff, lags=40)\n",
    "plt.show()\n",
    "plot_pacf(df_diff, lags=40)\n",
    "plt.show()"
   ]
  },
  {
   "cell_type": "markdown",
   "metadata": {},
   "source": [
    "**5.2.1. EVAUACIÓN DE RESULTADOS**"
   ]
  },
  {
   "cell_type": "markdown",
   "metadata": {
    "id": "NrGgVZJbRkeI"
   },
   "source": [
    "Hasta este punto se recomienda que se contraste las gráficas de ACF y PACF tanto para la variable en niveles como la viriable en primera diferencia, con el propósito de evaluar si la serie es o no estacionaria, para sacar sus conclusiones puede utilizar las siguientes imágenes como referencia:\n",
    "\n",
    "Ejemplo de correlograma de una serie de tiempo **No Estacionaria**:\n",
    "\n",
    "<img src=\"No Estacionaria.png\" alt=\"Drawing\" style=\"width: 300px;\"/>\n",
    "\n",
    "\n",
    "Ejemplo de correlograma de una serie de tiempo **Estacionaria**:\n",
    "\n",
    "<img src=\"Estacionaria.png\" alt=\"Drawing\" style=\"width: 300px;\"/>"
   ]
  },
  {
   "cell_type": "markdown",
   "metadata": {
    "id": "UjDyh6vtTf67"
   },
   "source": [
    "**5.3. TEST DE RAÍZ UNITARIA**"
   ]
  },
  {
   "cell_type": "markdown",
   "metadata": {
    "id": "5aUiuGthEOfy"
   },
   "source": [
    "Se puede evaluar la estacionariedad de la serie de tiempo a través de pruebas de raíz unitaria.\n",
    "\n",
    "**Prueba Dickey-Fuller aumentada (ADF)**\n",
    "La prueba ADF se utiliza para determinar si una serie de tiempo es estacionaria o tiene raíz unitaria, lo que indica no estacionariedad.\n",
    "\n",
    "**Hipótesis nula ($𝐻_0$​ ):** La serie temporal tiene raíz unitaria (es decir, no es estacionaria), se puede estimar mediante la siguiente ecuación:\n",
    "\n",
    "$\\Delta X_t = \\alpha + \\beta t + \\gamma X_{t-1} + \\sum_{i=1}^{p} \\delta_i \\Delta X_{t-i} + \\epsilon_t$\n",
    "\n",
    "*Dickey, D. A., & Fuller, W. A. (1979). Distribution of the estimators for autoregressive time series with a unit root. Journal of the American Statistical Association, 74(366a), 427-431.*\n",
    "\n",
    "**Prueba KPSS (Kwiatkowski-Phillips-Schmidt-Shin)**\n",
    "La prueba KPSS se utiliza para probar la estacionariedad en una serie de tiempo.\n",
    "\n",
    "**Hipótesis nula ($𝐻_0$​ ):** La serie temporal es estacionaria, se puede estimar mediante la siguiente ecuación:\n",
    "\n",
    "$\\eta_{\\text{KPSS}} = \\frac{1}{T^2} \\sum_{t=1}^{T} \\frac{S_t^2}{\\hat{\\sigma}^2}$\n",
    "\n",
    "*Kwiatkowski, D., Phillips, P. C. B., Schmidt, P., & Shin, Y. (1992). Testing the null hypothesis of stationarity against the alternative of a unit root: How sure are we that economic time series have a unit root?. Journal of Econometrics, 54(1-3), 159-178.*"
   ]
  },
  {
   "cell_type": "markdown",
   "metadata": {
    "id": "Te-pds04qG_U"
   },
   "source": [
    "**5.3.1. DATOS EN NIVELES**"
   ]
  },
  {
   "cell_type": "markdown",
   "metadata": {
    "id": "j7KjeRr5yBh0"
   },
   "source": [
    "Utilizando la librería de `statsmodels` se realizarán las pruebas **Augmented Dickey-Fuller Test** y  **KPSS Test** con los datos en niveles.\n",
    "\n",
    "Para cada prueba se va a generar un diccionario {} que permita la creación de un **DataFrame** que organiza múltiples matrices relacionadas en columnas, lo que hace que los datos sean fáciles de analizar y visualizar."
   ]
  },
  {
   "cell_type": "code",
   "execution_count": 16,
   "metadata": {
    "colab": {
     "base_uri": "https://localhost:8080/"
    },
    "executionInfo": {
     "elapsed": 25,
     "status": "ok",
     "timestamp": 1717370563023,
     "user": {
      "displayName": "Alejandro Vargas",
      "userId": "05034752351904629076"
     },
     "user_tz": 240
    },
    "id": "fuoahVEGEIkF",
    "outputId": "a60627b7-7c43-4792-856f-4dad8708d283"
   },
   "outputs": [],
   "source": [
    "# Augmented Dickey-Fuller Test\n",
    "adf_result = adfuller(df['Close'])\n",
    "adf_output = {\n",
    "    'Test Statistic': adf_result[0],\n",
    "    'p-value': adf_result[1],\n",
    "    'Lags Used': adf_result[2],\n",
    "    'Number of Observations': adf_result[3],\n",
    "    'Critical Value (1%)': adf_result[4]['1%'],\n",
    "    'Critical Value (5%)': adf_result[4]['5%'],\n",
    "    'Critical Value (10%)': adf_result[4]['10%']\n",
    "}\n",
    "\n",
    "# KPSS Test\n",
    "kpss_result = kpss(df['Close'], regression='c', nlags=\"auto\")\n",
    "kpss_output = {\n",
    "    'Test Statistic': kpss_result[0],\n",
    "    'p-value': kpss_result[1],\n",
    "    'Lags Used': kpss_result[2],\n",
    "    'Critical Value (1%)': kpss_result[3]['1%'],\n",
    "    'Critical Value (5%)': kpss_result[3]['5%'],\n",
    "    'Critical Value (10%)': kpss_result[3]['10%']\n",
    "}"
   ]
  },
  {
   "cell_type": "markdown",
   "metadata": {
    "id": "LLp_fk-jy7XU"
   },
   "source": [
    "Ahora se creará otro diccionario {} para ordenar todos los resultados de las pruebas que permita la creación de un DataFrame que organiza múltiples matrices relacionadas en columnas, lo que hace que los datos sean fáciles de analizar y visualizar."
   ]
  },
  {
   "cell_type": "code",
   "execution_count": 17,
   "metadata": {
    "colab": {
     "base_uri": "https://localhost:8080/"
    },
    "executionInfo": {
     "elapsed": 23,
     "status": "ok",
     "timestamp": 1717370563023,
     "user": {
      "displayName": "Alejandro Vargas",
      "userId": "05034752351904629076"
     },
     "user_tz": 240
    },
    "id": "Z5yVc1KvyosZ",
    "outputId": "86e26b89-ed4d-4274-ebf9-949aab1a3501"
   },
   "outputs": [
    {
     "name": "stdout",
     "output_type": "stream",
     "text": [
      "   Test  Test Statistic   p-value  Lags Used  Number of Observations  \\\n",
      "0   ADF       -1.551932  0.507683          0                    1258   \n",
      "1  KPSS        0.922625  0.010000         20                    1238   \n",
      "\n",
      "   Critical Value (1%)  Critical Value (5%)  Critical Value (10%)  \n",
      "0            -3.435559             -2.86384             -2.567995  \n",
      "1             0.739000              0.46300              0.347000  \n"
     ]
    }
   ],
   "source": [
    "# Crear DataFrame con los resultados\n",
    "unit_root_tests_df = pd.DataFrame({\n",
    "    'Test': ['ADF', 'KPSS'],\n",
    "    'Test Statistic': [adf_output['Test Statistic'], kpss_output['Test Statistic']],\n",
    "    'p-value': [adf_output['p-value'], kpss_output['p-value']],\n",
    "    'Lags Used': [adf_output['Lags Used'], kpss_output['Lags Used']],\n",
    "    'Number of Observations': [adf_output['Number of Observations'], len(df['Close']) - kpss_output['Lags Used'] - 1],\n",
    "    'Critical Value (1%)': [adf_output['Critical Value (1%)'], kpss_output['Critical Value (1%)']],\n",
    "    'Critical Value (5%)': [adf_output['Critical Value (5%)'], kpss_output['Critical Value (5%)']],\n",
    "    'Critical Value (10%)': [adf_output['Critical Value (10%)'], kpss_output['Critical Value (10%)']]\n",
    "})\n",
    "\n",
    "# Mostrar la tabla\n",
    "print(unit_root_tests_df)"
   ]
  },
  {
   "cell_type": "markdown",
   "metadata": {
    "id": "2sMrHOIZqNhv"
   },
   "source": [
    "**5.3.2. DATOS EN PRIMERA DIFERENCIA**"
   ]
  },
  {
   "cell_type": "markdown",
   "metadata": {
    "id": "Sn_lD0SWKhgr"
   },
   "source": [
    "Se analizará la estacionariedad con los datos en primera diferencia **df_diff**."
   ]
  },
  {
   "cell_type": "code",
   "execution_count": 18,
   "metadata": {
    "colab": {
     "base_uri": "https://localhost:8080/"
    },
    "executionInfo": {
     "elapsed": 21,
     "status": "ok",
     "timestamp": 1717370563024,
     "user": {
      "displayName": "Alejandro Vargas",
      "userId": "05034752351904629076"
     },
     "user_tz": 240
    },
    "id": "iHBHgrChJrlJ",
    "outputId": "97bfb241-d43a-4738-c822-d4c7b5870a28"
   },
   "outputs": [
    {
     "name": "stdout",
     "output_type": "stream",
     "text": [
      "   Test  Test Statistic  p-value  Lags Used  Number of Observations  \\\n",
      "0   ADF      -36.246390      0.0          0                    1257   \n",
      "1  KPSS        0.118929      0.1          2                    1255   \n",
      "\n",
      "   Critical Value (1%)  Critical Value (5%)  Critical Value (10%)  \n",
      "0            -3.435563            -2.863842             -2.567996  \n",
      "1             0.739000             0.463000              0.347000  \n"
     ]
    }
   ],
   "source": [
    "# Augmented Dickey-Fuller Test\n",
    "adf_result_diff = adfuller(df_diff)\n",
    "adf_output_diff = {\n",
    "    'Test Statistic': adf_result_diff[0],\n",
    "    'p-value': adf_result_diff[1],\n",
    "    'Lags Used': adf_result_diff[2],\n",
    "    'Number of Observations': adf_result_diff[3],\n",
    "    'Critical Value (1%)': adf_result_diff[4]['1%'],\n",
    "    'Critical Value (5%)': adf_result_diff[4]['5%'],\n",
    "    'Critical Value (10%)': adf_result_diff[4]['10%']\n",
    "}\n",
    "\n",
    "# KPSS Test\n",
    "kpss_result_diff = kpss(df_diff, regression='c', nlags=\"auto\")\n",
    "kpss_output_diff = {\n",
    "    'Test Statistic': kpss_result_diff[0],\n",
    "    'p-value': kpss_result_diff[1],\n",
    "    'Lags Used': kpss_result_diff[2],\n",
    "    'Critical Value (1%)': kpss_result_diff[3]['1%'],\n",
    "    'Critical Value (5%)': kpss_result_diff[3]['5%'],\n",
    "    'Critical Value (10%)': kpss_result_diff[3]['10%']\n",
    "}\n",
    "\n",
    "# Crear DataFrame con los resultados\n",
    "unit_root_tests_diff_df = pd.DataFrame({\n",
    "    'Test': ['ADF', 'KPSS'],\n",
    "    'Test Statistic': [adf_output_diff['Test Statistic'], kpss_output_diff['Test Statistic']],\n",
    "    'p-value': [adf_output_diff['p-value'], kpss_output_diff['p-value']],\n",
    "    'Lags Used': [adf_output_diff['Lags Used'], kpss_output_diff['Lags Used']],\n",
    "    'Number of Observations': [adf_output_diff['Number of Observations'], len(df_diff) - kpss_output_diff['Lags Used'] - 1],\n",
    "    'Critical Value (1%)': [adf_output_diff['Critical Value (1%)'], kpss_output_diff['Critical Value (1%)']],\n",
    "    'Critical Value (5%)': [adf_output_diff['Critical Value (5%)'], kpss_output_diff['Critical Value (5%)']],\n",
    "    'Critical Value (10%)': [adf_output_diff['Critical Value (10%)'], kpss_output_diff['Critical Value (10%)']]\n",
    "})\n",
    "\n",
    "# Mostrar la tabla\n",
    "print(unit_root_tests_diff_df)\n"
   ]
  },
  {
   "cell_type": "markdown",
   "metadata": {
    "id": "YzZlJ3Xl0HoJ"
   },
   "source": [
    "**6. NUEVA SERIE DE TIEMPO CON LOS RENDIMIENTOS**"
   ]
  },
  {
   "cell_type": "markdown",
   "metadata": {
    "id": "q-54TmxwMEjX"
   },
   "source": [
    "Utilizando la libreria de **pandas** vamos a generar una serie con los rendimientos diarios **$R_t$** (Holding Period Return).\n",
    "\n",
    "$R_t = \\frac{P_t - P_{t-1}}{P_{t-1}} \\times 100$"
   ]
  },
  {
   "cell_type": "code",
   "execution_count": 19,
   "metadata": {
    "id": "_wxeg73xL1Ox"
   },
   "outputs": [],
   "source": [
    "df_returns = df['Close'].pct_change().dropna()"
   ]
  },
  {
   "cell_type": "markdown",
   "metadata": {
    "id": "X_2zd8ToquuX"
   },
   "source": [
    "**6.1. REPRESENTACIÓN GRÁFICA DE LOS RENDIMIENTOS**"
   ]
  },
  {
   "cell_type": "markdown",
   "metadata": {
    "id": "41iP8EG_q1rr"
   },
   "source": [
    "Los **clusters de volatilidad** en series de tiempo financieras se refiere a la observación empírica de que los períodos de alta volatilidad tienden a ser seguidos por alta volatilidad, y los períodos de baja volatilidad tienden a ser seguidos por baja volatilidad.\n",
    "\n",
    "Este fenómeno implica que **la volatilidad no es constante en el tiempo** sino que ocurre en ráfagas. Este efecto de agrupamiento (clustering) sugiere una varianza que varía en el tiempo en los rendimientos de los activos financieros, que a menudo se modela utilizando los modelos ARCH (heterocedasticidad condicional autorregresiva) y GARCH (ARCH generalizado). Estos modelos capturan la dependencia de la volatilidad actual de los rendimientos al cuadrado pasados ​​y de las volatilidades pasadas, lo que permite modelar y pronosticar con mayor precisión los riesgos del mercado financiero. La agrupación de volatilidad es importante para la gestión de riesgos, la fijación de precios de opciones y otras aplicaciones financieras donde comprender la dinámica de la volatilidad es crucial.\n",
    "\n",
    "<img src=\"Volatility clustering.png\" alt=\"Drawing\" style=\"width: 400px;\"/>"
   ]
  },
  {
   "cell_type": "markdown",
   "metadata": {
    "id": "_q_orTmyz6_d"
   },
   "source": [
    "Utilizando la libreria `matplotlib` a continuación, se grafica la serie de tiempo de los rendimientos del instrumento financiero."
   ]
  },
  {
   "cell_type": "code",
   "execution_count": 20,
   "metadata": {
    "colab": {
     "base_uri": "https://localhost:8080/",
     "height": 487
    },
    "executionInfo": {
     "elapsed": 1015,
     "status": "ok",
     "timestamp": 1717370564019,
     "user": {
      "displayName": "Alejandro Vargas",
      "userId": "05034752351904629076"
     },
     "user_tz": 240
    },
    "id": "qo4JkPXEMf_V",
    "outputId": "e81c87ad-2230-454a-a65b-3cac467f332f"
   },
   "outputs": [
    {
     "data": {
      "image/png": "[encoded data removed]",
      "text/plain": [
       "<Figure size 720x360 with 1 Axes>"
      ]
     },
     "metadata": {
      "needs_background": "light"
     },
     "output_type": "display_data"
    }
   ],
   "source": [
    "plt.figure(figsize=(10,5))\n",
    "plt.plot(df_returns)\n",
    "plt.title('Serie de tiempo de los rendimientos de ' + ticker)\n",
    "plt.xlabel('Fecha')\n",
    "plt.ylabel('Rendimientos')\n",
    "plt.show()"
   ]
  },
  {
   "cell_type": "markdown",
   "metadata": {
    "id": "lnqnecaCsPj2"
   },
   "source": [
    "Las series temporales financieras a menudo presentan **leptokurtosis** y **asimetría**, que son características clave que las distinguen de las series distribuidas normalmente.\n",
    "\n",
    "**Leptokurtosis:**:\n",
    "La leptokurtosis se refiere a la presencia de \"colas gruesas\" en la distribución de retorno, lo que significa que los valores extremos (tanto positivos como negativos) ocurren con más frecuencia de lo que predeciría una distribución normal. Los estudios empíricos han demostrado consistentemente que los rendimientos financieros tienen una curtosis mayor que la distribución normal. Esto implica que los mercados financieros experimentan grandes oscilaciones con mayor frecuencia, lo que genera mayores probabilidades de eventos extremos como crisis financieras o auges del mercado. La presencia de leptokurtosis afecta la gestión de riesgos y la fijación de precios de opciones, ya que los modelos que asumen normalidad subestiman la probabilidad de rendimientos extremos.\n",
    "\n",
    "*Mandelbrot, B. (1963). The variation of certain speculative prices. Journal of Business, 36(4), 394-419.*\n",
    "\n",
    "**Asimetría:**\n",
    "La asimetría mide la asimetría de la distribución del rendimiento. La asimetría positiva indica que la distribución tiene una cola más larga a la derecha, mientras que la asimetría negativa indica una cola más larga a la izquierda. La evidencia empírica muestra que las distribuciones de rendimiento financiero a menudo muestran asimetría, generalmente negativa, lo que indica que los grandes rendimientos (pérdidas) negativos son más comunes que los grandes rendimientos (ganancias) positivos. Esta asimetría refleja las reacciones de los participantes del mercado ante la información negativa, lo que lleva a caídas más frecuentes y graves que a alzas.\n",
    "\n",
    "*Cont, R. (2001). Empirical properties of asset returns: Stylized facts and statistical issues. Quantitative Finance, 1(2), 223-236.*\n",
    "\n",
    "<img src=\"Kurtosis_skewness.png\" alt=\"Drawing\" style=\"width: 400px;\"/>\n"
   ]
  },
  {
   "cell_type": "markdown",
   "metadata": {
    "id": "UNYC2hIbrf_I"
   },
   "source": [
    "A continuación, utilizando la librería `matplotlib` se presenta la gráfica de distribución de frecuencias."
   ]
  },
  {
   "cell_type": "code",
   "execution_count": 21,
   "metadata": {
    "colab": {
     "base_uri": "https://localhost:8080/",
     "height": 487
    },
    "executionInfo": {
     "elapsed": 620,
     "status": "ok",
     "timestamp": 1717370564626,
     "user": {
      "displayName": "Alejandro Vargas",
      "userId": "05034752351904629076"
     },
     "user_tz": 240
    },
    "id": "tMC_-Rq0OdJR",
    "outputId": "727b4d41-abc5-4376-88f4-64798c8aa372"
   },
   "outputs": [
    {
     "data": {
      "image/png": "[encoded data removed]",
      "text/plain": [
       "<Figure size 720x360 with 1 Axes>"
      ]
     },
     "metadata": {
      "needs_background": "light"
     },
     "output_type": "display_data"
    }
   ],
   "source": [
    "plt.figure(figsize=(10, 5))\n",
    "plt.hist(df_returns, bins=50)\n",
    "plt.title('Distribución de frecuencias de los rendimientos de ' + ticker)\n",
    "plt.xlabel('Rendimientos')\n",
    "plt.ylabel('Frecuencia')\n",
    "plt.show()"
   ]
  },
  {
   "cell_type": "markdown",
   "metadata": {
    "id": "3F9UzUlSrmp3"
   },
   "source": [
    "**6.2. ESTADÍSTICAS DESCRIPTIVAS DE LOS RENDIMIENTOS**"
   ]
  },
  {
   "cell_type": "markdown",
   "metadata": {
    "id": "puY5i5crB-U3"
   },
   "source": [
    "Usando la librería de **pandas** podemos presentar un resumen de estadísticas descriptivas."
   ]
  },
  {
   "cell_type": "code",
   "execution_count": 22,
   "metadata": {
    "colab": {
     "base_uri": "https://localhost:8080/"
    },
    "executionInfo": {
     "elapsed": 17,
     "status": "ok",
     "timestamp": 1717370564626,
     "user": {
      "displayName": "Alejandro Vargas",
      "userId": "05034752351904629076"
     },
     "user_tz": 240
    },
    "id": "0YgqOHc60xOy",
    "outputId": "17ae30e8-5e0f-447b-97cf-faea3be623cd"
   },
   "outputs": [
    {
     "name": "stdout",
     "output_type": "stream",
     "text": [
      "Número de observaciones: 1258\n",
      "Periodo de los datos: 1823 days 00:00:00\n",
      "Promedio: 0.0007863461673593897\n",
      "Mediana: 0.0007497141984676992\n",
      "Máximo: 0.13535901735711864\n",
      "Mínimo: -0.140494377749234\n",
      "Desviación estándar: 0.02205526853723742\n",
      "Skewness: 0.13062415400761843\n",
      "Kurtosis: 4.421179561551557\n",
      "Estadístico Jarque-Bera: 1028.1570782314132\n",
      "Valor p de Jarque-Bera: 0.0\n"
     ]
    }
   ],
   "source": [
    "n_obs_ret = len(df_returns)\n",
    "period_ret = df_returns.index[-1] - df_returns.index[0]\n",
    "mean_ret = df_returns.mean()\n",
    "median_ret = df_returns.median()\n",
    "max_val_ret = df_returns.max()\n",
    "min_val_ret = df_returns.min()\n",
    "std_dev_ret = df_returns.std()\n",
    "skewness_ret = stats.skew(df_returns)\n",
    "kurtosis_ret = stats.kurtosis(df_returns)\n",
    "jb_stat_ret, jb_p_value_ret = stats.jarque_bera(df_returns)\n",
    "\n",
    "print(f\"Número de observaciones: {n_obs_ret}\")\n",
    "print(f\"Periodo de los datos: {period_ret}\")\n",
    "print(f\"Promedio: {mean_ret}\")\n",
    "print(f\"Mediana: {median_ret}\")\n",
    "print(f\"Máximo: {max_val_ret}\")\n",
    "print(f\"Mínimo: {min_val_ret}\")\n",
    "print(f\"Desviación estándar: {std_dev_ret}\")\n",
    "print(f\"Skewness: {skewness_ret}\")\n",
    "print(f\"Kurtosis: {kurtosis_ret}\")\n",
    "print(f\"Estadístico Jarque-Bera: {jb_stat_ret}\")\n",
    "print(f\"Valor p de Jarque-Bera: {jb_p_value_ret}\")"
   ]
  },
  {
   "cell_type": "markdown",
   "metadata": {
    "id": "YwH7de68tLFO"
   },
   "source": [
    "**6.3. ESTACIONARIEDAD DE LA SERIE DE RENDIMIENTOS**"
   ]
  },
  {
   "cell_type": "markdown",
   "metadata": {
    "id": "NyhdTkQwtPj_"
   },
   "source": [
    "**6.3.1. FUNCIONES DE AUTOCORRELACIÓN Y CORRELOGRAMA**"
   ]
  },
  {
   "cell_type": "markdown",
   "metadata": {
    "id": "qQX4Dre4CR1S"
   },
   "source": [
    "A continuación, utilizando la librería `statsmodels` se presentan las gráficas ACF y PACF para la serie de rendimientos."
   ]
  },
  {
   "cell_type": "code",
   "execution_count": 23,
   "metadata": {
    "colab": {
     "base_uri": "https://localhost:8080/",
     "height": 887
    },
    "executionInfo": {
     "elapsed": 2427,
     "status": "ok",
     "timestamp": 1717370567038,
     "user": {
      "displayName": "Alejandro Vargas",
      "userId": "05034752351904629076"
     },
     "user_tz": 240
    },
    "id": "m6czIOQp02dH",
    "outputId": "a02e6a6c-0165-4bdb-b0b7-06af8c9e037b"
   },
   "outputs": [
    {
     "data": {
      "image/png": "[encoded data removed]",
      "text/plain": [
       "<Figure size 432x288 with 1 Axes>"
      ]
     },
     "metadata": {
      "needs_background": "light"
     },
     "output_type": "display_data"
    },
    {
     "data": {
      "image/png": "[encoded data removed]",
      "text/plain": [
       "<Figure size 432x288 with 1 Axes>"
      ]
     },
     "metadata": {
      "needs_background": "light"
     },
     "output_type": "display_data"
    }
   ],
   "source": [
    "plot_acf(df_returns, lags=40)\n",
    "plt.show()\n",
    "plot_pacf(df_returns, lags=40)\n",
    "plt.show()"
   ]
  },
  {
   "cell_type": "markdown",
   "metadata": {
    "id": "f6xna-CUtpZI"
   },
   "source": [
    "**6.3.2. PRUEBAS DE RAÍZ UNITARIA EN LOS RENDIMIENTOS**"
   ]
  },
  {
   "cell_type": "markdown",
   "metadata": {
    "id": "2sFCXiDRCayJ"
   },
   "source": [
    "Se realizarán los test de raíz unitaria para la serie de rendimientos."
   ]
  },
  {
   "cell_type": "code",
   "execution_count": 24,
   "metadata": {
    "colab": {
     "base_uri": "https://localhost:8080/"
    },
    "executionInfo": {
     "elapsed": 788,
     "status": "ok",
     "timestamp": 1717370567822,
     "user": {
      "displayName": "Alejandro Vargas",
      "userId": "05034752351904629076"
     },
     "user_tz": 240
    },
    "id": "Z9Uuppqv0_PQ",
    "outputId": "6c91b7d0-2924-472f-d7f4-adb839c92c57"
   },
   "outputs": [
    {
     "name": "stdout",
     "output_type": "stream",
     "text": [
      "   Test  Test Statistic  p-value  Lags Used  Number of Observations  \\\n",
      "0   ADF      -36.739456      0.0          0                    1257   \n",
      "1  KPSS        0.106159      0.1          3                    1254   \n",
      "\n",
      "   Critical Value (1%)  Critical Value (5%)  Critical Value (10%)  \n",
      "0            -3.435563            -2.863842             -2.567996  \n",
      "1             0.739000             0.463000              0.347000  \n"
     ]
    }
   ],
   "source": [
    "# Augmented Dickey-Fuller Test\n",
    "adf_result_returns = adfuller(df_returns)\n",
    "adf_output_returns = {\n",
    "    'Test Statistic': adf_result_returns[0],\n",
    "    'p-value': adf_result_returns[1],\n",
    "    'Lags Used': adf_result_returns[2],\n",
    "    'Number of Observations': adf_result_returns[3],\n",
    "    'Critical Value (1%)': adf_result_returns[4]['1%'],\n",
    "    'Critical Value (5%)': adf_result_returns[4]['5%'],\n",
    "    'Critical Value (10%)': adf_result_returns[4]['10%']\n",
    "}\n",
    "\n",
    "# KPSS Test\n",
    "kpss_result_returns = kpss(df_returns, regression='c', nlags=\"auto\")\n",
    "kpss_output_returns = {\n",
    "    'Test Statistic': kpss_result_returns[0],\n",
    "    'p-value': kpss_result_returns[1],\n",
    "    'Lags Used': kpss_result_returns[2],\n",
    "    'Critical Value (1%)': kpss_result_returns[3]['1%'],\n",
    "    'Critical Value (5%)': kpss_result_returns[3]['5%'],\n",
    "    'Critical Value (10%)': kpss_result_returns[3]['10%']\n",
    "}\n",
    "\n",
    "# Crear DataFrame con los resultados\n",
    "unit_root_tests_returns_df = pd.DataFrame({\n",
    "    'Test': ['ADF', 'KPSS'],\n",
    "    'Test Statistic': [adf_output_returns['Test Statistic'], kpss_output_returns['Test Statistic']],\n",
    "    'p-value': [adf_output_returns['p-value'], kpss_output_returns['p-value']],\n",
    "    'Lags Used': [adf_output_returns['Lags Used'], kpss_output_returns['Lags Used']],\n",
    "    'Number of Observations': [adf_output_returns['Number of Observations'], len(df_returns) - kpss_output_returns['Lags Used'] - 1],\n",
    "    'Critical Value (1%)': [adf_output_returns['Critical Value (1%)'], kpss_output_returns['Critical Value (1%)']],\n",
    "    'Critical Value (5%)': [adf_output_returns['Critical Value (5%)'], kpss_output_returns['Critical Value (5%)']],\n",
    "    'Critical Value (10%)': [adf_output_returns['Critical Value (10%)'], kpss_output_returns['Critical Value (10%)']]\n",
    "})\n",
    "\n",
    "# Mostrar la tabla\n",
    "print(unit_root_tests_returns_df)"
   ]
  },
  {
   "cell_type": "markdown",
   "metadata": {
    "id": "dwPVYnI92spF"
   },
   "source": [
    "**7. ESTIMACIÓN DE LA VARIANZA A TRAVÉS DEL MODELO GARCH**"
   ]
  },
  {
   "cell_type": "markdown",
   "metadata": {
    "id": "CtBirLNBwIJL"
   },
   "source": [
    "**7.1. DESCRIPCIÓN DE LOS MODELOS DE VARIANZA**"
   ]
  },
  {
   "cell_type": "markdown",
   "metadata": {
    "id": "0uCDAvgACk_4"
   },
   "source": [
    "A continuación, se describen los modelos univariados de estimación de volatilidad, expuestos por:\n",
    "\n",
    "*Vargas Sanchez, A. (2017). Estimación de la volatilidad de los fondos de inversión abiertos en Bolivia. Investigación & Desarrollo, 2(17), 21-47*.\n",
    "\n",
    "**Modelo de varianza simple**\n",
    "\n",
    "Este modelo calcula la varianza de una serie temporal como el promedio de los residuos cuadrados pasados ​​en una periodo de tamaño 𝑚.\n",
    "\n",
    "$\\sigma_n^2 = \\frac{1}{m} \\sum_{i=1}^{m} u_{n-i}^2$\n",
    "\n",
    "**Modelo de varianza ponderada**\n",
    "\n",
    "Este modelo calcula la varianza ponderando los residuos cuadrados pasados ​​con ponderaciones 𝛼𝑖.\n",
    "\n",
    "$\\sigma_n^2 = \\sum_{i=1}^{m} \\alpha_i u_{n-i}^2$\n",
    "\n",
    "**Modelo de descomposición de varianza ponderada**\n",
    "\n",
    "Este modelo descompone la varianza ponderada en un componente de varianza a largo plazo $𝑉_𝐿$ que está ponderada por 𝛾  y una suma de residuos al cuadrado pasados ​​ponderados por $\\alpha_i$.\n",
    "\n",
    "$\\sigma_n^2 = \\gamma V_L + \\sum_{i=1}^{m} \\alpha_i u_{n-i}^2$\n",
    "\n",
    "**Modelo ARCH con 𝑚 Rezagos**\n",
    "\n",
    "El modelo ARCH captura la varianza agregando un término constante 𝜔\n",
    "a la suma ponderada de los residuos cuadrados pasados.\n",
    "\n",
    "$\\sigma_n^2 = \\omega + \\sum_{i=1}^{m} \\alpha_i u_{n-i}^2$\n",
    "\n",
    "*Engle, R. F. (1982). Autoregressive Conditional Heteroscedasticity with Estimates of the Variance of United Kingdom Inflation. Econometrica, 50(4), 987-1007*.\n",
    "\n",
    "Otra formulación relaciona el término constante 𝜔 al componente de varianza a largo plazo 𝛾 $𝑉_𝐿$.\n",
    "\n",
    "$\\sigma_n^2 = \\omega + \\sum_{i=1}^{m} \\alpha_i u_{n-i}^2$\n",
    "\n",
    "Donde:\n",
    "$\\omega = \\gamma V_L$\n",
    "\n",
    "**Modelo ARCH(1)**\n",
    "\n",
    "Este es un caso especial del modelo ARCH con un solo rezago.\n",
    "\n",
    "$\\sigma_n^2 = \\omega + \\alpha u_{n-1}^2$\n",
    "\n",
    "**Modelo de media móvil ponderada exponencialmente (EWMA)**\n",
    "\n",
    "El modelo EWMA calcula la varianza como un promedio ponderado de la varianza del período anterior y el residuo pasado al cuadrado, con ponderaciones λ y  (1−λ), respectivamente.\n",
    "\n",
    "$\\sigma_n^2 = \\lambda \\sigma_{n-1}^2 + (1 - \\lambda) u_{n-1}^2$\n",
    "\n",
    "*J.P. Morgan/Reuters (1996). RiskMetrics—Technical Document*.\n",
    "\n",
    "**Modelo GARCH(1,1)**\n",
    "\n",
    "El modelo GARCH amplía el modelo ARCH al incluir infinitas variaciones pasadas en el cálculo de la varianza. Agrega un término constante 𝜔, un término para residuos cuadrados pasados ​​y un término para varianzas pasadas.\n",
    "\n",
    "$\\sigma_n^2 = \\gamma V_L + \\alpha u_{n-1}^2 + \\beta \\sigma_{n-1}^2$\n",
    "\n",
    "$\\sigma_n^2 = \\omega + \\alpha u_{n-1}^2 + \\beta \\sigma_{n-1}^2$\n",
    "\n",
    "Donde: $\\omega = \\gamma V_L$\n",
    "\n",
    "*Bollerslev, T. (1986). Generalized Autoregressive Conditional Heteroskedasticity. Journal of Econometrics, 31(3), 307-327*."
   ]
  },
  {
   "cell_type": "markdown",
   "metadata": {
    "id": "qnWcYMLswSGi"
   },
   "source": [
    "**7.2. LIBRERÍA PARA LOS MODELOS ARCH Y GARCH**"
   ]
  },
  {
   "cell_type": "markdown",
   "metadata": {
    "id": "KJPhaT5C22Gp"
   },
   "source": [
    "Utilizando **pip** que es el instalador de paquetes para Python vamos a instalar la librería `arch`.\n",
    "\n",
    "**pip** es una herramienta de línea de comandos y el instalador del paquete que permite instalar y administrar bibliotecas y dependencias adicionales que no están incluidas en la biblioteca estándar de Python. Con pip, puede descargar e instalar fácilmente paquetes desde Python Package Index (PyPI) y otros repositorios. Por ejemplo, para instalar un paquete, usaría un comando como pip install nombre_paquete."
   ]
  },
  {
   "cell_type": "code",
   "execution_count": 25,
   "metadata": {
    "colab": {
     "base_uri": "https://localhost:8080/"
    },
    "executionInfo": {
     "elapsed": 18288,
     "status": "ok",
     "timestamp": 1717370586094,
     "user": {
      "displayName": "Alejandro Vargas",
      "userId": "05034752351904629076"
     },
     "user_tz": 240
    },
    "id": "tN55w6e61UNh",
    "outputId": "e6325e23-a8b2-4d7c-dc8b-4e70fa44bc0a"
   },
   "outputs": [
    {
     "name": "stdout",
     "output_type": "stream",
     "text": [
      "Requirement already satisfied: arch in c:\\anaconda\\lib\\site-packages (5.3.1)\n",
      "Requirement already satisfied: pandas>=1.0 in c:\\anaconda\\lib\\site-packages (from arch) (1.4.2)\n",
      "Requirement already satisfied: scipy>=1.3 in c:\\anaconda\\lib\\site-packages (from arch) (1.7.3)\n",
      "Requirement already satisfied: numpy>=1.17 in c:\\anaconda\\lib\\site-packages (from arch) (1.22.4)Note: you may need to restart the kernel to use updated packages.\n",
      "\n",
      "Requirement already satisfied: property-cached>=1.6.4 in c:\\anaconda\\lib\\site-packages (from arch) (1.6.4)\n",
      "Requirement already satisfied: statsmodels>=0.11 in c:\\anaconda\\lib\\site-packages (from arch) (0.13.2)\n",
      "Requirement already satisfied: pytz>=2020.1 in c:\\anaconda\\lib\\site-packages (from pandas>=1.0->arch) (2021.3)\n",
      "Requirement already satisfied: python-dateutil>=2.8.1 in c:\\anaconda\\lib\\site-packages (from pandas>=1.0->arch) (2.8.2)\n",
      "Requirement already satisfied: six>=1.5 in c:\\anaconda\\lib\\site-packages (from python-dateutil>=2.8.1->pandas>=1.0->arch) (1.16.0)\n",
      "Requirement already satisfied: patsy>=0.5.2 in c:\\anaconda\\lib\\site-packages (from statsmodels>=0.11->arch) (0.5.2)\n",
      "Requirement already satisfied: packaging>=21.3 in c:\\anaconda\\lib\\site-packages (from statsmodels>=0.11->arch) (21.3)\n",
      "Requirement already satisfied: pyparsing!=3.0.5,>=2.0.2 in c:\\anaconda\\lib\\site-packages (from packaging>=21.3->statsmodels>=0.11->arch) (3.0.4)\n"
     ]
    }
   ],
   "source": [
    "pip install arch"
   ]
  },
  {
   "cell_type": "markdown",
   "metadata": {
    "id": "xF1CCaKS3ndX"
   },
   "source": [
    "De la librería arch importaremos la función `arch_model`, que está diseñada para modelar series de tiempo financieras utilizando modelos de heterocedasticidad condicional autorregresiva (ARCH) y modelos relacionados como GARCH.\n",
    "\n",
    "Al crear un modelo ARCH o GARCH usando arch_model, las entradas principales son:\n",
    "\n",
    "\n",
    "`y`: La variable dependiente (datos de series de tiempo).\n",
    "\n",
    "`vol`: el tipo de modelo de volatilidad (por ejemplo, 'Garch', 'Arch').\n",
    "\n",
    "`p`: El orden de retraso para el término ARCH.\n",
    "\n",
    "`q`: El orden de retraso para el término GARCH.\n",
    "\n",
    "`mean`: el tipo de modelo de media (por ejemplo, 'Constante', 'Cero', 'AR').\n",
    "\n",
    "`lags`: el número de rezagos que se incluirán en el modelo medio.\n",
    "\n",
    "`dist`: La distribución que se asumirá para los errores (por ejemplo, 'normal', 't').\n"
   ]
  },
  {
   "cell_type": "code",
   "execution_count": 26,
   "metadata": {
    "id": "FFbEq4Mm1baG"
   },
   "outputs": [],
   "source": [
    "from arch import arch_model"
   ]
  },
  {
   "cell_type": "markdown",
   "metadata": {
    "id": "_bB-fGWGwd5R"
   },
   "source": [
    "**7.3. ESTIMACIÓN DEL MODELO GARCH**"
   ]
  },
  {
   "cell_type": "markdown",
   "metadata": {
    "id": "uSxx8yx_4jgn"
   },
   "source": [
    "La configuración de garch_model que usaremos es la siguiente:\n",
    "\n",
    "$\\sigma_n^2 = \\omega + \\alpha u_{n-1}^2 + \\beta \\sigma_{n-1}^2$\n",
    "\n",
    "\n",
    "Variable dependiente (y): df_returns: los datos de la serie temporal de las devoluciones.\n",
    "\n",
    "Modelo de volatilidad (vol): 'Garch': especifica que el modelo utilizado es un modelo GARCH.\n",
    "\n",
    "Orden ARCH (p): 1: el orden de rezago para el término ARCH, que indica que el modelo incluye un rezago de los residuos cuadrados pasados.\n",
    "\n",
    "Orden GARCH (q): 1: el orden de rezago para el término GARCH, que indica que el modelo incluye un rezago de varianzas condicionales pasadas."
   ]
  },
  {
   "cell_type": "code",
   "execution_count": 27,
   "metadata": {
    "colab": {
     "base_uri": "https://localhost:8080/"
    },
    "executionInfo": {
     "elapsed": 7,
     "status": "ok",
     "timestamp": 1717370587409,
     "user": {
      "displayName": "Alejandro Vargas",
      "userId": "05034752351904629076"
     },
     "user_tz": 240
    },
    "id": "bXdHyXkE1evT",
    "outputId": "edbb77f3-cf52-4ae3-9ea7-0e8fb36ac64e"
   },
   "outputs": [
    {
     "name": "stdout",
     "output_type": "stream",
     "text": [
      "Iteration:      1,   Func. Count:      6,   Neg. LLF: 2.956793031258722e+18\n",
      "Iteration:      2,   Func. Count:     17,   Neg. LLF: -3123.30088154075\n",
      "Optimization terminated successfully    (Exit mode 0)\n",
      "            Current function value: -3123.30087743743\n",
      "            Iterations: 6\n",
      "            Function evaluations: 17\n",
      "            Gradient evaluations: 2\n",
      "                     Constant Mean - GARCH Model Results                      \n",
      "==============================================================================\n",
      "Dep. Variable:                  Close   R-squared:                       0.000\n",
      "Mean Model:             Constant Mean   Adj. R-squared:                  0.000\n",
      "Vol Model:                      GARCH   Log-Likelihood:                3123.30\n",
      "Distribution:                  Normal   AIC:                          -6238.60\n",
      "Method:            Maximum Likelihood   BIC:                          -6218.05\n",
      "                                        No. Observations:                 1258\n",
      "Date:                Mon, Jun 10 2024   Df Residuals:                     1257\n",
      "Time:                        08:39:40   Df Model:                            1\n",
      "                                 Mean Model                                 \n",
      "============================================================================\n",
      "                 coef    std err          t      P>|t|      95.0% Conf. Int.\n",
      "----------------------------------------------------------------------------\n",
      "mu         1.1745e-03  5.301e-04      2.216  2.671e-02 [1.356e-04,2.213e-03]\n",
      "                              Volatility Model                              \n",
      "============================================================================\n",
      "                 coef    std err          t      P>|t|      95.0% Conf. Int.\n",
      "----------------------------------------------------------------------------\n",
      "omega      9.7210e-06  1.869e-11  5.201e+05      0.000 [9.721e-06,9.721e-06]\n",
      "alpha[1]       0.1000  3.745e-02      2.670  7.580e-03   [2.660e-02,  0.173]\n",
      "beta[1]        0.8800  3.371e-02     26.106 3.103e-150     [  0.814,  0.946]\n",
      "============================================================================\n",
      "\n",
      "Covariance estimator: robust\n"
     ]
    }
   ],
   "source": [
    "garch_model = arch_model(df_returns, vol='Garch', p=1, q=1).fit()\n",
    "print(garch_model.summary())"
   ]
  },
  {
   "cell_type": "markdown",
   "metadata": {},
   "source": [
    "Se realizarán dos ajustes en la estimación del modelo:\n",
    "\n",
    "El uso de `fit(disp='off')` al ajustar modelos, puede mejorar la eficiencia y el enfoque de su proceso de modelado. El método de ajuste se utiliza para estimar los parámetros del modelo y el parámetro disp controla la visualización del resultado de optimización. Configurar disp='off' suprime el resultado detallado del proceso de optimización, que incluye registros de iteración y mensajes de convergencia. Esto es particularmente útil cuando se ejecutan varios modelos o se realiza procesamiento por lotes, ya que reduce la cantidad de información innecesaria que abarrota la consola, lo que facilita centrarse en los resultados y resúmenes de los modelos. Además, apagar la pantalla puede acelerar ligeramente el proceso de adaptación, ya que se elimina la sobrecarga de imprimir en la consola. Esta configuración es ideal para una ejecución de scripts limpia y eficiente, especialmente en análisis automatizados o a gran escala.\n",
    "\n",
    "El uso del parámetro de reescalado `rescale=bool` en el modelado de volatilidad, como cuando se ajustan modelos tipo GARCH, puede mejorar significativamente la estabilidad numérica y la precisión del modelo. El parámetro de cambio de escala, que es un valor booleano (bool), determina si los datos deben cambiarse de escala para tener una variación unitaria antes de ajustar el modelo. Establecer rescale=True garantiza que los datos estén normalizados, lo que puede ayudar a evitar problemas numéricos durante la optimización al mantener los valores dentro de un rango manejable. Esto es particularmente útil cuando se trata de datos de series temporales financieras que pueden tener una varianza muy alta o muy baja. Por otro lado, bool es un tipo de datos en Python que puede tomar los valores Verdadero o Falso. Cuando rescale=False, el modelo utiliza los datos originales sin ningún cambio de escala. En resumen, utilizar el cambio de escala de forma adecuada puede generar estimaciones de parámetros más confiables y mejorar el rendimiento del modelo."
   ]
  },
  {
   "cell_type": "code",
   "execution_count": 28,
   "metadata": {},
   "outputs": [
    {
     "name": "stdout",
     "output_type": "stream",
     "text": [
      "                     Constant Mean - GARCH Model Results                      \n",
      "==============================================================================\n",
      "Dep. Variable:                  Close   R-squared:                       0.000\n",
      "Mean Model:             Constant Mean   Adj. R-squared:                  0.000\n",
      "Vol Model:                      GARCH   Log-Likelihood:                3123.30\n",
      "Distribution:                  Normal   AIC:                          -6238.60\n",
      "Method:            Maximum Likelihood   BIC:                          -6218.05\n",
      "                                        No. Observations:                 1258\n",
      "Date:                Mon, Jun 10 2024   Df Residuals:                     1257\n",
      "Time:                        08:39:40   Df Model:                            1\n",
      "                                 Mean Model                                 \n",
      "============================================================================\n",
      "                 coef    std err          t      P>|t|      95.0% Conf. Int.\n",
      "----------------------------------------------------------------------------\n",
      "mu         1.1745e-03  5.301e-04      2.216  2.671e-02 [1.356e-04,2.213e-03]\n",
      "                              Volatility Model                              \n",
      "============================================================================\n",
      "                 coef    std err          t      P>|t|      95.0% Conf. Int.\n",
      "----------------------------------------------------------------------------\n",
      "omega      9.7210e-06  1.869e-11  5.201e+05      0.000 [9.721e-06,9.721e-06]\n",
      "alpha[1]       0.1000  3.745e-02      2.670  7.580e-03   [2.660e-02,  0.173]\n",
      "beta[1]        0.8800  3.371e-02     26.106 3.103e-150     [  0.814,  0.946]\n",
      "============================================================================\n",
      "\n",
      "Covariance estimator: robust\n"
     ]
    }
   ],
   "source": [
    "garch_model = arch_model(df_returns, vol='Garch', p=1, q=1, rescale='bool').fit(disp='off')\n",
    "print(garch_model.summary())"
   ]
  },
  {
   "cell_type": "markdown",
   "metadata": {
    "id": "9nQyBQQsxT9l"
   },
   "source": [
    "**7.3.1. MODELO DE LOS RENDIMIENTOS**"
   ]
  },
  {
   "cell_type": "markdown",
   "metadata": {
    "id": "xebsh74ocTSZ"
   },
   "source": [
    "Cuando se ejecuta un modelo GARCH con una media constante (𝜇) para los rendimientos, el modelo supone que los rendimientos se generan mediante una media constante más un componente de volatilidad que varía con el tiempo. En esta configuración, los residuos del modelo, que son las diferencias entre los rendimientos observados y la media constante, **capturan toda la estructura dinámica de los rendimientos**.\n",
    "\n",
    "El modelo GARCH descompone los rendimientos en patrones de volatilidad y shocks predecibles (residuales). Por tanto, **los residuos explican perfectamente la dinámica de los rendimientos** porque representan los cambios o innovaciones inesperados que no son capturados por la media constante. Estos residuos son cruciales para comprender la volatilidad variable en el tiempo y la agrupación de los rendimientos, que son aspectos centrales del modelado de series de tiempo financieras con GARCH."
   ]
  },
  {
   "cell_type": "markdown",
   "metadata": {
    "id": "JMgLm726dSA4"
   },
   "source": [
    "A continuación, extraemos los residuos del modelo estimado y lo graficamos en un diagrama de dispersión respecto a la serie de rendimientos.\n",
    "Los resultados muestran que la relación es directa y perfecta."
   ]
  },
  {
   "cell_type": "code",
   "execution_count": 29,
   "metadata": {
    "colab": {
     "base_uri": "https://localhost:8080/",
     "height": 565
    },
    "executionInfo": {
     "elapsed": 454,
     "status": "ok",
     "timestamp": 1717370587858,
     "user": {
      "displayName": "Alejandro Vargas",
      "userId": "05034752351904629076"
     },
     "user_tz": 240
    },
    "id": "02t9l3DJcTsW",
    "outputId": "2f2a3929-4d1f-4c62-d616-dc4b75ef2a0d"
   },
   "outputs": [
    {
     "data": {
      "image/png": "[encoded data removed]",
      "text/plain": [
       "<Figure size 720x432 with 1 Axes>"
      ]
     },
     "metadata": {
      "needs_background": "light"
     },
     "output_type": "display_data"
    }
   ],
   "source": [
    "# Extraemos los residuals\n",
    "residuals = garch_model.resid\n",
    "\n",
    "# Creamos un diagrama de dispersión entre los residuals vs. returns\n",
    "plt.figure(figsize=(10, 6))\n",
    "plt.scatter(df_returns.values.flatten(), residuals, alpha=0.5)\n",
    "plt.xlabel('Rendimientos')\n",
    "plt.ylabel('Residuals')\n",
    "plt.title('Diagrama de dispersión de: Residuals vs. Rendimientos')\n",
    "plt.grid(True)\n",
    "plt.show()"
   ]
  },
  {
   "cell_type": "markdown",
   "metadata": {
    "id": "r2v0Z9pIx2Oa"
   },
   "source": [
    "**7.4. PRUEBAS AL MODELO**"
   ]
  },
  {
   "cell_type": "markdown",
   "metadata": {
    "id": "ysekIh2jyH0S"
   },
   "source": [
    "**Evaluaremos las propiedades de los residuos en el modelo GARCH estimado**.\n",
    "\n",
    "Importaremos las siguientes librerías:\n",
    "\n",
    "`scipy.stats jarque_bera`\n",
    "Es un módulo de la biblioteca SciPy que proporciona una amplia gama de funciones y pruebas estadísticas. La prueba jarque_bera se utiliza para verificar si una muestra de datos tiene la asimetría y la curtosis que coinciden con una distribución normal, probando la normalidad de los datos.\n",
    "\n",
    "`statsmodels.stats.diagnostic acorr_ljungbox`\n",
    "Es un módulo de la biblioteca statsmodels que proporciona pruebas de diagnóstico para modelos estadísticos. La prueba acorr_ljungbox se utiliza para comprobar la autocorrelación en los residuos de un modelo de series de tiempo, evaluando si los residuos se distribuyen de forma independiente.\n",
    "\n",
    "`statsmodels.stats.diagnostic het_arch`\n",
    "Este módulo de la biblioteca statsmodels proporciona pruebas de diagnóstico para modelos estadísticos. La prueba het_arch se utiliza para detectar efectos de heterocedasticidad condicional autorregresiva (ARCH) en una serie de tiempo, evaluando si la varianza de los residuos depende del tiempo."
   ]
  },
  {
   "cell_type": "code",
   "execution_count": 30,
   "metadata": {
    "id": "p8hJEd9fx5c4"
   },
   "outputs": [],
   "source": [
    "from scipy.stats import jarque_bera\n",
    "from statsmodels.stats.diagnostic import acorr_ljungbox\n",
    "from statsmodels.stats.diagnostic import het_arch"
   ]
  },
  {
   "cell_type": "markdown",
   "metadata": {
    "id": "UqK51w1vyI7z"
   },
   "source": [
    "**Test de Normalidad**\n",
    "\n",
    "La hipótesis nula $H_0$ en la prueba de Jarque-Bera es que los residuos se distribuyen normalmente. Esto significa que la asimetría y la curtosis de los residuos coinciden con las de una distribución normal.\n",
    "\n",
    "**Nota:**\n",
    "\n",
    "Cuando los errores en un modelo econométrico no se distribuyen normalmente, pueden generar estimaciones sesgadas e ineficientes, lo que hace que los resultados no sean confiables.\n",
    "\n",
    "Suponer errores distribuidos normalmente es particularmente crucial en muestras de tamaño pequeño porque, en tales casos, el teorema del límite central no se aplica. Este teorema establece que la distribución de la media muestral se acerca a la normalidad a medida que aumenta el tamaño de la muestra. Sin embargo, si los errores no se distribuyen normalmente, los estimadores pueden volverse sesgados e ineficientes, y las pruebas de hipótesis y los intervalos de confianza pueden no ser confiables. Al asumir normalidad, aseguramos que la distribución de las estadísticas de prueba se aproxima mucho a sus distribuciones teóricas, lo que permite inferencias válidas. Este supuesto ayuda a mantener la confiabilidad de las técnicas econométricas estándar, lo que facilita la obtención de resultados precisos en muestras pequeñas."
   ]
  },
  {
   "cell_type": "code",
   "execution_count": 31,
   "metadata": {
    "colab": {
     "base_uri": "https://localhost:8080/"
    },
    "executionInfo": {
     "elapsed": 26,
     "status": "ok",
     "timestamp": 1717370587859,
     "user": {
      "displayName": "Alejandro Vargas",
      "userId": "05034752351904629076"
     },
     "user_tz": 240
    },
    "id": "S91VgLyjyJVm",
    "outputId": "bc991ecb-937b-455a-8848-012b340eaad2"
   },
   "outputs": [
    {
     "name": "stdout",
     "output_type": "stream",
     "text": [
      "Estadístico Jarque-Bera: 1028.1570782314132\n",
      "p-value: 0.0\n"
     ]
    }
   ],
   "source": [
    "#Test de Normalidad\n",
    "\n",
    "residuals = garch_model.resid\n",
    "jb_test = jarque_bera(residuals)\n",
    "\n",
    "print(f\"Estadístico Jarque-Bera: {jb_test[0]}\")\n",
    "print(f\"p-value: {jb_test[1]}\")"
   ]
  },
  {
   "cell_type": "markdown",
   "metadata": {
    "id": "ccNS8Z5byJnq"
   },
   "source": [
    "**Test de autocorrelación**\n",
    "\n",
    "La hipótesis nula $H_0$ en la prueba de Ljung-Box es que **no existe autocorrelación en los residuos** en ninguno de los rezagos especificados.\n",
    "Esto significa que los residuos se distribuyen de forma independiente y no existe un patrón significativo de autocorrelación.\n",
    "\n",
    "**Nota:**\n",
    "\n",
    "La autocorrelación, o correlación serial, ocurre cuando los residuos (errores) en un modelo econométrico están correlacionados entre períodos de tiempo. Esto viola el supuesto clásico de independencia entre errores, lo que lleva a estimaciones de parámetros sesgadas e ineficientes y a errores estándar no válidos. Como resultado, las pruebas de hipótesis pueden arrojar conclusiones engañosas y los intervalos de confianza pueden ser incorrectos. La autocorrelación es particularmente problemática en los datos de series temporales, donde las observaciones se ordenan naturalmente en el tiempo. Si hay autocorrelación, las soluciones incluyen agregar variables dependientes rezagadas, usar diferenciación o aplicar mínimos cuadrados generalizados (GLS) para obtener estimaciones insesgadas y eficientes."
   ]
  },
  {
   "cell_type": "code",
   "execution_count": 32,
   "metadata": {
    "colab": {
     "base_uri": "https://localhost:8080/"
    },
    "executionInfo": {
     "elapsed": 24,
     "status": "ok",
     "timestamp": 1717370587859,
     "user": {
      "displayName": "Alejandro Vargas",
      "userId": "05034752351904629076"
     },
     "user_tz": 240
    },
    "id": "EK4HYYTzyJ0F",
    "outputId": "b20b0a0a-afbc-4b95-e689-ae7d2e138610"
   },
   "outputs": [
    {
     "name": "stdout",
     "output_type": "stream",
     "text": [
      "      lb_stat  lb_pvalue\n",
      "10  14.182197   0.164842\n"
     ]
    }
   ],
   "source": [
    "#Test de autocorrelación\n",
    "\n",
    "ljungbox_test = acorr_ljungbox(residuals, lags=[10], return_df=True)\n",
    "print(ljungbox_test)"
   ]
  },
  {
   "cell_type": "markdown",
   "metadata": {
    "id": "msmXfpFXyJ_x"
   },
   "source": [
    "**Test de heterocedasticidad**\n",
    "\n",
    "La hipótesis nula $H_0$ en la prueba ARCH (usando `het_arch`) es que **no hay efecto ARCH en los residuos**. Esto significa que los residuos **exhiben una varianza constante (homocedasticidad)** a lo largo del tiempo y no hay presente volatilidad variable en el tiempo (heterocedasticidad).\n",
    "\n",
    "**Nota:**\n",
    "\n",
    "La heterocedasticidad ocurre cuando la varianza de los residuos (errores) en un modelo econométrico no es constante entre las observaciones. Esto viola el supuesto de homocedasticidad, donde los residuos tienen una varianza constante. La heterocedasticidad puede conducir a estimaciones ineficientes y errores estándar no válidos, lo que hace que las pruebas de hipótesis y los intervalos de confianza no sean confiables. Es particularmente problemático en datos transversales, donde la varianza de la variable dependiente puede cambiar con el nivel de una variable independiente. Las soluciones incluyen transformar variables (por ejemplo, transformación logarítmica), utilizar errores estándar robustos a la heterocedasticidad o aplicar mínimos cuadrados ponderados (WLS) para obtener estimaciones eficientes. Abordar la heterocedasticidad garantiza que el modelo econométrico produzca resultados de soluciones confiables."
   ]
  },
  {
   "cell_type": "code",
   "execution_count": 33,
   "metadata": {
    "colab": {
     "base_uri": "https://localhost:8080/"
    },
    "executionInfo": {
     "elapsed": 23,
     "status": "ok",
     "timestamp": 1717370587859,
     "user": {
      "displayName": "Alejandro Vargas",
      "userId": "05034752351904629076"
     },
     "user_tz": 240
    },
    "id": "TEFkuZrYyKKt",
    "outputId": "c4639d1d-0d24-4375-ffe8-42a465db177c"
   },
   "outputs": [
    {
     "name": "stdout",
     "output_type": "stream",
     "text": [
      "LM Statistic: 62.11108663964704\n",
      "LM Test p-value: 1.441409143694868e-09\n",
      "F-Statistic: 6.478803647428727\n",
      "F-Test p-value: 8.367787854643272e-10\n"
     ]
    }
   ],
   "source": [
    "#Test de heterocedasticidad\n",
    "\n",
    "arch_test = het_arch(residuals)\n",
    "print(f\"LM Statistic: {arch_test[0]}\")\n",
    "print(f\"LM Test p-value: {arch_test[1]}\")\n",
    "print(f\"F-Statistic: {arch_test[2]}\")\n",
    "print(f\"F-Test p-value: {arch_test[3]}\")"
   ]
  },
  {
   "cell_type": "markdown",
   "metadata": {},
   "source": [
    "**7.4.1. ESTIMACIÓN DEL MODELO CON OTRAS DISTRIBUCIONES EN LOS ERRORES**"
   ]
  },
  {
   "cell_type": "markdown",
   "metadata": {},
   "source": [
    "La librería `arch_model` permite especificar la distribución que se utilizará para las innovaciones.\n",
    "\n",
    "Las opciones incluyen:\n",
    "\n",
    "`'normal'` o `'gaussian'` Para distribución normal\n",
    "\n",
    "`'t'` o `'studentst'` Para distribución t de Student\n",
    "\n",
    "`'skewstudent'` o `'skewt'` Para distribución sesgada\n",
    "\n",
    "`'ged'` o `' generalized error'` Para distribución de errores generalizados.\n",
    "\n",
    "Valor predeterminado `'normal'`."
   ]
  },
  {
   "cell_type": "markdown",
   "metadata": {},
   "source": [
    "**DISTRIBUCIONES RECOMENDADAS:**\n",
    "\n",
    "**Distribución t de Student (`'t'` o `'studentst'`):**\n",
    "\n",
    "Utilice esta distribución si los residuos presentan colas pesadas (curtosis) pero son simétricos.\n",
    "Ventajas, la distribución t de Student tiene colas más pesadas que la distribución normal, lo que puede modelar mejor los valores extremos observados en las series temporales financieras.\n",
    "\n",
    "**Distribución t de Student sesgada (`'skewstudent'` o `'skewt'`):**\n",
    "Utilice esta distribución si los residuos presentan colas pesadas y asimetría.\n",
    "Ventajas, esta distribución captura tanto la asimetría (asimetría) como las colas pesadas (curtosis), proporcionando un ajuste más flexible para los rendimientos financieros que se desvían de la normalidad.\n",
    "\n",
    "**Distribución de errores generalizados (GED) (`'ged'` o `'generalized error'`):**\n",
    "Use esta distribución si los residuos muestran un exceso de curtosis pero no necesariamente colas pesadas tan pronunciadas como las modeladas por la distribución t de Student. Ventajas, GED permite diferentes comportamientos de la cola y se puede ajustar para capturar una variedad de desviaciones de la normalidad."
   ]
  },
  {
   "cell_type": "code",
   "execution_count": 34,
   "metadata": {},
   "outputs": [
    {
     "name": "stdout",
     "output_type": "stream",
     "text": [
      "                        Constant Mean - GARCH Model Results                         \n",
      "====================================================================================\n",
      "Dep. Variable:                        Close   R-squared:                       0.000\n",
      "Mean Model:                   Constant Mean   Adj. R-squared:                  0.000\n",
      "Vol Model:                            GARCH   Log-Likelihood:                3168.98\n",
      "Distribution:      Standardized Student's t   AIC:                          -6327.96\n",
      "Method:                  Maximum Likelihood   BIC:                          -6302.27\n",
      "                                              No. Observations:                 1258\n",
      "Date:                      Mon, Jun 10 2024   Df Residuals:                     1257\n",
      "Time:                              08:39:40   Df Model:                            1\n",
      "                                 Mean Model                                 \n",
      "============================================================================\n",
      "                 coef    std err          t      P>|t|      95.0% Conf. Int.\n",
      "----------------------------------------------------------------------------\n",
      "mu         9.1796e-04  4.638e-04      1.979  4.778e-02 [8.988e-06,1.827e-03]\n",
      "                              Volatility Model                              \n",
      "============================================================================\n",
      "                 coef    std err          t      P>|t|      95.0% Conf. Int.\n",
      "----------------------------------------------------------------------------\n",
      "omega      9.7210e-06  1.157e-07     84.054      0.000 [9.494e-06,9.948e-06]\n",
      "alpha[1]       0.1000  3.830e-02      2.611  9.028e-03   [2.493e-02,  0.175]\n",
      "beta[1]        0.8800  3.394e-02     25.926 3.402e-148     [  0.813,  0.947]\n",
      "                              Distribution                              \n",
      "========================================================================\n",
      "                 coef    std err          t      P>|t|  95.0% Conf. Int.\n",
      "------------------------------------------------------------------------\n",
      "nu             6.2323      1.089      5.724  1.040e-08 [  4.098,  8.366]\n",
      "========================================================================\n",
      "\n",
      "Covariance estimator: robust\n"
     ]
    }
   ],
   "source": [
    "garch_model = arch_model(df_returns, vol='Garch', p=1, q=1, dist='t', rescale='bool').fit(disp='off')\n",
    "print(garch_model.summary())"
   ]
  },
  {
   "cell_type": "markdown",
   "metadata": {},
   "source": [
    "En los modelos de volatilidad, a menudo se estiman parámetros como **eta**, **nu** y **lambda** para capturar mejor las características distributivas de los residuos.\n",
    "\n",
    "El parámetro **eta** normalmente representa los grados de libertad en una distribución t de Student, capturando el peso de las colas (los valores más bajos de eta indican colas más pesadas), que son cruciales para modelar eventos extremos en series de tiempo financieras.\n",
    "\n",
    "El parámetro **nu** se asocia comúnmente con el comportamiento de la cola en distribuciones como la Distribución de errores generalizados (GED), donde controla la curtosis, lo que permite que el modelo se adapte a varios niveles de picos en los datos.\n",
    "\n",
    "El parámetro **lambda** captura la asimetría en distribuciones como la distribución t de Student asimétrica, lo que indica la asimetría de los residuos (lambda positiva sugiere una asimetría hacia la derecha, mientras que lambda negativa indica una asimetría hacia la izquierda).\n",
    "\n",
    "Estos parámetros deben usarse para ajustar la distribución de residuos en el modelo, mejorando así la capacidad del modelo para representar con precisión las características de los datos subyacentes y mejorando el ajuste y el desempeño de pronóstico del modelo de volatilidad."
   ]
  },
  {
   "cell_type": "markdown",
   "metadata": {
    "id": "diULT-DgxdHq"
   },
   "source": [
    "**7.4. PARÁMETROS DEL MODELO**"
   ]
  },
  {
   "cell_type": "markdown",
   "metadata": {
    "id": "Kj3DyWLR4yJ4"
   },
   "source": [
    "Usando la librería **arch** extraemos los parámetros del modelo estimado."
   ]
  },
  {
   "cell_type": "code",
   "execution_count": 35,
   "metadata": {
    "colab": {
     "base_uri": "https://localhost:8080/"
    },
    "executionInfo": {
     "elapsed": 22,
     "status": "ok",
     "timestamp": 1717370587859,
     "user": {
      "displayName": "Alejandro Vargas",
      "userId": "05034752351904629076"
     },
     "user_tz": 240
    },
    "id": "SFWAPen-1icy",
    "outputId": "96ff9149-1de5-47fe-b903-a5a6615f6c7d"
   },
   "outputs": [
    {
     "name": "stdout",
     "output_type": "stream",
     "text": [
      "Constante (omega): 9.72096185381193e-06\n",
      "Coeficiente alpha1: 0.09999997852655075\n",
      "Coeficiente beta1: 0.8800000235658679\n"
     ]
    }
   ],
   "source": [
    "params = garch_model.params\n",
    "omega = params['omega']\n",
    "alpha1 = params['alpha[1]']\n",
    "beta1 = params['beta[1]']\n",
    "\n",
    "print(f\"Constante (omega): {omega}\")\n",
    "print(f\"Coeficiente alpha1: {alpha1}\")\n",
    "print(f\"Coeficiente beta1: {beta1}\")"
   ]
  },
  {
   "cell_type": "markdown",
   "metadata": {
    "id": "hK0o04JExkgT"
   },
   "source": [
    "**7.5. VARIANZA DE LARGO PLAZO Y VOLATILIDAD**"
   ]
  },
  {
   "cell_type": "markdown",
   "metadata": {
    "id": "LlN8ZVsg5A2b"
   },
   "source": [
    "En base a los parámetros extraídos realizamos el cálculo de la varianza de largo plazo y la volatilidad de largo plazo.\n",
    "\n",
    "$V_L = \\frac{\\omega}{1 - \\alpha - \\beta}$\n",
    "\n",
    "Luego anualizamos la volatilidad:\n",
    "\n",
    "$\\text{Annual Volatility} = \\text{Daily Volatility} \\times \\sqrt{\\text{Time}}$\n",
    "\n",
    "$\\sigma_{\\text{annual}} = \\sigma_{\\text{daily}} \\times \\sqrt{\\text{T}}$\n"
   ]
  },
  {
   "cell_type": "code",
   "execution_count": 36,
   "metadata": {
    "colab": {
     "base_uri": "https://localhost:8080/"
    },
    "executionInfo": {
     "elapsed": 22,
     "status": "ok",
     "timestamp": 1717370587859,
     "user": {
      "displayName": "Alejandro Vargas",
      "userId": "05034752351904629076"
     },
     "user_tz": 240
    },
    "id": "7_l3jP2K1omj",
    "outputId": "79c0d719-b803-4bb5-df18-2cdb1b4fefc0"
   },
   "outputs": [
    {
     "name": "stdout",
     "output_type": "stream",
     "text": [
      "Varianza de largo plazo: 0.0004860481435414069\n",
      "Volatilidad diaria: 0.02204649957570151\n",
      "Volatilidad anualizada: 0.3499773309407833\n"
     ]
    }
   ],
   "source": [
    "long_term_variance = omega / (1 - alpha1 - beta1)\n",
    "long_term_volatility = long_term_variance**0.5\n",
    "annualized_volatility = long_term_volatility * (252**0.5)\n",
    "\n",
    "print(f\"Varianza de largo plazo: {long_term_variance}\")\n",
    "print(f\"Volatilidad diaria: {long_term_volatility}\")\n",
    "print(f\"Volatilidad anualizada: {annualized_volatility}\")"
   ]
  },
  {
   "cell_type": "markdown",
   "metadata": {
    "id": "pgDs6ESNxull"
   },
   "source": [
    "**7.6. PROYECCIÓN DE LA VARIANZA Y LA DESVIACIÓN ESTÁNDAR**"
   ]
  },
  {
   "cell_type": "markdown",
   "metadata": {
    "id": "W4lQcUUs6MVS"
   },
   "source": [
    "Ahora utilizando la librería `arch` se realizará el pronóstico de la varianza para 20 periodos n=20, utilizando el modelo estimado.\n",
    "\n",
    "$\\sigma_t^2 = \\omega + \\alpha \\epsilon_{t-1}^2 + \\beta \\sigma_{t-1}^2$\n",
    "\n",
    "$\\sigma_{t+1}^2 = \\omega + \\alpha \\epsilon_{t}^2 + \\beta \\sigma_{t}^2$\n",
    "\n",
    "$\\sigma_{t+n}^2 = \\omega + \\alpha \\epsilon_{t+n-1}^2 + \\beta \\sigma_{t+n-1}^2$"
   ]
  },
  {
   "cell_type": "code",
   "execution_count": 37,
   "metadata": {
    "colab": {
     "base_uri": "https://localhost:8080/",
     "height": 488
    },
    "executionInfo": {
     "elapsed": 364,
     "status": "ok",
     "timestamp": 1717370588202,
     "user": {
      "displayName": "Alejandro Vargas",
      "userId": "05034752351904629076"
     },
     "user_tz": 240
    },
    "id": "3Bb7wy1N1qPR",
    "outputId": "8dbac9a9-6cc8-4a12-ec05-72e7319d5cad"
   },
   "outputs": [
    {
     "data": {
      "image/png": "[encoded data removed]",
      "text/plain": [
       "<Figure size 720x360 with 1 Axes>"
      ]
     },
     "metadata": {
      "needs_background": "light"
     },
     "output_type": "display_data"
    }
   ],
   "source": [
    "forecast = garch_model.forecast(horizon=20)\n",
    "variance_forecast = forecast.variance[-1:]\n",
    "\n",
    "\n",
    "plt.figure(figsize=(10, 5))\n",
    "plt.plot(variance_forecast.values.flatten(), label='Proyecciones de varianza de ' + ticker)\n",
    "plt.title('Proyección de la varianza')\n",
    "plt.xlabel('Periodo')\n",
    "plt.ylabel('Varianza')\n",
    "plt.legend()\n",
    "plt.show()"
   ]
  },
  {
   "cell_type": "markdown",
   "metadata": {
    "id": "UR66iW-KKQr2"
   },
   "source": [
    "A continuación, se aplicará la función de raíz cuadrada por elementos al DataFrame `variance_forecast` utilizando la función `sqrt` de `numpy`. Convierte las variaciones pronosticadas en desviaciones estándar y almacena el resultado en `std_dev_forecast`."
   ]
  },
  {
   "cell_type": "code",
   "execution_count": 38,
   "metadata": {
    "id": "oDugHQ2i2DC-"
   },
   "outputs": [],
   "source": [
    "std_dev_forecast = variance_forecast.apply(np.sqrt)"
   ]
  },
  {
   "cell_type": "markdown",
   "metadata": {
    "id": "u5t1RgFaK7Hr"
   },
   "source": [
    "A continuación, se genera una proyección de las desviaciones estándar futuras para una serie temporal determinada de rendimientos.\n",
    "Primero se crea un rango de 20 **fechas comerciales** futuras (`freq='B'`) a partir del día posterior a la última fecha en el marco de datos `df_returns` usando `pd.date_range`.\n",
    "\n",
    "Posibles frecuencias de la función:\n",
    "\n",
    "'D': Calendar day frequency.\n",
    "\n",
    "'B': Business day frequency (excluding weekends and holidays).\n",
    "\n",
    "'W': Weekly frequency (defaulting to the end of the week).\n",
    "\n",
    "'M': Month end frequency.\n",
    "\n",
    "'SM': Semi-month end frequency (15th and end of month).\n",
    "\n",
    "'BM': Business month end frequency.\n",
    "\n",
    "'CBM': Custom business month end frequency.\n",
    "\n",
    "'MS': Month start frequency.\n",
    "\n",
    "'BMS': Business month start frequency.\n",
    "\n",
    "'Q': Quarter end frequency.\n",
    "\n",
    "'BQ': Business quarter end frequency.\n",
    "\n",
    "'QS': Quarter start frequency.\n",
    "\n",
    "'BQS': Business quarter start frequency.\n",
    "\n",
    "'A' or 'Y': Year end frequency.\n",
    "\n",
    "'BA' or 'BY': Business year end frequency.\n",
    "\n",
    "'AS' or 'YS': Year start frequency.\n",
    "\n",
    "'BAS' or 'BYS': Business year start frequency.\n",
    "\n",
    "'H': Hourly frequency.\n",
    "\n",
    "'T' or 'min': Minute frequency.\n",
    "\n",
    "'S': Second frequency.\n",
    "\n",
    "'L' or 'ms': Millisecond frequency.\n",
    "\n",
    "'U' or 'us': Microsecond frequency.\n",
    "\n",
    "'N': Nanosecond frequency.\n",
    "\n",
    "*df_returns.index[-1]* tiene el propósito de acceder a la **última fecha en el índice del DataFrame df_returns**. df_returns.index proporciona el índice del DataFrame, que en este caso se supone que son fechas [-1] selecciona el último elemento del índice, que es la fecha más reciente de sus datos.\n",
    "\n",
    "*pd.Timedelta(días=1)* crea un delta de tiempo que represente un día.\n",
    "pd.Timedelta es una función de Pandas para representar una duración de tiempo días=1 especifica que esta duración es de un día.\n",
    "\n",
    "*df_returns.index[-1] + pd.Timedelta(días=1)* permite calcular el día siguiente a la última fecha en su DataFrame. Al Agregar un `pd.Timedelta(days=1)` a la última fecha en su índice avanza la fecha un día. Esto le proporciona la fecha de inicio de la proyección.\n",
    "\n",
    "*pd.date_range(inicio=..., periodos=20, frecuencia='B')* crea un rango de fechas futuras a partir de la fecha de inicio calculada.\n",
    "\n",
    "Luego se construye un nuevo DataFrame, `proyección_df`, con dos columnas: 'Fecha', que contiene las fechas futuras generadas, y 'Desviación Estándar Proyectada', que contiene las desviaciones estándar pronosticadas derivadas de la matriz std_dev_forecast.\n",
    "\n",
    "Finalmente, se imprime el DataFrame para mostrar las desviaciones estándar proyectadas para las fechas futuras especificadas. Esto proporciona una representación tabular clara de la volatilidad prevista para los próximos días hábiles."
   ]
  },
  {
   "cell_type": "code",
   "execution_count": 39,
   "metadata": {
    "colab": {
     "base_uri": "https://localhost:8080/"
    },
    "executionInfo": {
     "elapsed": 32,
     "status": "ok",
     "timestamp": 1717370588653,
     "user": {
      "displayName": "Alejandro Vargas",
      "userId": "05034752351904629076"
     },
     "user_tz": 240
    },
    "id": "bypiRPln2Ndb",
    "outputId": "37ed5b6a-cc55-4097-e223-7b4e7c03f2e8"
   },
   "outputs": [
    {
     "name": "stdout",
     "output_type": "stream",
     "text": [
      "        Fecha  Desviación Estándar Proyectada\n",
      "0  2024-06-10                        0.013752\n",
      "1  2024-06-11                        0.013967\n",
      "2  2024-06-12                        0.014173\n",
      "3  2024-06-13                        0.014373\n",
      "4  2024-06-14                        0.014566\n",
      "5  2024-06-17                        0.014753\n",
      "6  2024-06-18                        0.014934\n",
      "7  2024-06-19                        0.015109\n",
      "8  2024-06-20                        0.015279\n",
      "9  2024-06-21                        0.015443\n",
      "10 2024-06-24                        0.015603\n",
      "11 2024-06-25                        0.015757\n",
      "12 2024-06-26                        0.015907\n",
      "13 2024-06-27                        0.016053\n",
      "14 2024-06-28                        0.016195\n",
      "15 2024-07-01                        0.016332\n",
      "16 2024-07-02                        0.016466\n",
      "17 2024-07-03                        0.016596\n",
      "18 2024-07-04                        0.016723\n",
      "19 2024-07-05                        0.016846\n"
     ]
    }
   ],
   "source": [
    "projection_dates = pd.date_range(start=df_returns.index[-1] + pd.Timedelta(days=1), periods=20, freq='B')\n",
    "projection_df = pd.DataFrame({\n",
    "    'Fecha': projection_dates,\n",
    "    'Desviación Estándar Proyectada': std_dev_forecast.values.flatten()\n",
    "})\n",
    "\n",
    "print(projection_df)"
   ]
  },
  {
   "cell_type": "markdown",
   "metadata": {
    "id": "N2PvkiDjMeIy"
   },
   "source": [
    "En base a las proyecciones a continuación, se presenta en forma gráfica y se incluye la volatilidad incondicional de largo plazo que muestra el nivel de riesgo actual del activo."
   ]
  },
  {
   "cell_type": "code",
   "execution_count": 40,
   "metadata": {
    "colab": {
     "base_uri": "https://localhost:8080/",
     "height": 488
    },
    "executionInfo": {
     "elapsed": 31,
     "status": "ok",
     "timestamp": 1717370588653,
     "user": {
      "displayName": "Alejandro Vargas",
      "userId": "05034752351904629076"
     },
     "user_tz": 240
    },
    "id": "M2DXd3Bh2SBG",
    "outputId": "14f5f714-d026-415f-de6e-ed7790911d93"
   },
   "outputs": [
    {
     "data": {
      "image/png": "[encoded data removed]",
      "text/plain": [
       "<Figure size 720x360 with 1 Axes>"
      ]
     },
     "metadata": {
      "needs_background": "light"
     },
     "output_type": "display_data"
    }
   ],
   "source": [
    "plt.figure(figsize=(10, 5))\n",
    "plt.plot(projection_dates, std_dev_forecast.values.flatten(), label='Desviación Estándar Proyectada')\n",
    "plt.axhline(y=long_term_volatility, color='r', linestyle='--', label='Volatilidad de Largo Plazo Diaria')\n",
    "plt.title('Proyección de la Desviación Estándar de '+ ticker)\n",
    "plt.xlabel('Fecha')\n",
    "plt.ylabel('Desviación Estándar')\n",
    "plt.legend()\n",
    "plt.show()"
   ]
  },
  {
   "cell_type": "markdown",
   "metadata": {
    "id": "tPl2rb9GzFgv"
   },
   "source": [
    "**7.7. ESPECIFICACIÓN AUTOMÁTICA DEL MODELO GARCH**"
   ]
  },
  {
   "cell_type": "markdown",
   "metadata": {
    "id": "sMqkx4migBci"
   },
   "source": [
    "La automatización de la selección de parámetros del modelo GARCH se basa en el principio de optimizar el ajuste del modelo y al mismo tiempo equilibrar la complejidad.\n",
    "\n",
    "El objetivo es identificar el modelo que capture mejor la estructura de datos subyacente con la menor cantidad de error, normalmente utilizando criterios como el Criterio de información de Akaike (AIC) o el Criterio de información bayesiano (BIC). Estos criterios penalizan los modelos por su complejidad para evitar el sobreajuste, asegurando así que el modelo elegido sea preciso y generalizable. Al evaluar sistemáticamente una variedad de modelos posibles, el proceso selecciona el que tiene el equilibrio óptimo entre bondad de ajuste y complejidad."
   ]
  },
  {
   "cell_type": "markdown",
   "metadata": {
    "id": "e9mfTBJXgh8G"
   },
   "source": [
    "El código proporcionado realiza una búsqueda en la cuadrícula para seleccionar automáticamente el mejor modelo GARCH basado en el AIC. Evalúa diferentes combinaciones de órdenes AR (autoregresivas) y MA (media móvil).\n",
    "\n",
    "**Grid search loop:** Se formula un bucle de búsqueda de cuadrícula, es una forma metódica de evaluar múltiples modelos variando sistemáticamente sus parámetros y seleccionando el mejor en función de un criterio predefinido, como el Criterio de información de Akaike (AIC).\n",
    "\n",
    "Aquí hay un desglose detallado de cada parte del ciclo:\n",
    "\n",
    "\n",
    "*   Primero, se configura las variables para realizar un seguimiento del mejor modelo encontrado durante la búsqueda.\n",
    "*   Usamos **nested for loops** (bucles para anidados) para iterar sobre un rango de valores posibles para los parámetros p y q. Estos parámetros representan el orden de los componentes AR (autoregresivo) y MA (media móvil) del modelo GARCH, respectivamente.\n",
    "\n",
    "*   Dentro del bucle interno, intentamos ajustar un modelo GARCH usando la combinación actual de p y q. La función arch_model se utiliza para especificar el modelo y se llama a fit() para estimar sus parámetros.\n",
    "*  Después de ajustar el modelo, comprobamos su valor AIC. Si este valor es inferior al mejor AIC actual, actualizamos nuestros registros del mejor modelo, mejor orden y mejor AIC.\n",
    "\n",
    "*   Manejo de excepciones, si se produce algún error durante el ajuste del modelo (por ejemplo, debido a no convergencia o combinaciones de parámetros no válidas), el bloque except los detecta y el ciclo continúa con el siguiente conjunto de parámetros."
   ]
  },
  {
   "cell_type": "code",
   "execution_count": 41,
   "metadata": {
    "colab": {
     "base_uri": "https://localhost:8080/"
    },
    "executionInfo": {
     "elapsed": 384,
     "status": "ok",
     "timestamp": 1717370589007,
     "user": {
      "displayName": "Alejandro Vargas",
      "userId": "05034752351904629076"
     },
     "user_tz": 240
    },
    "id": "1rZdKEM0J1ig",
    "outputId": "358903e2-3316-4915-8a6e-0b79beb3eb2f"
   },
   "outputs": [
    {
     "name": "stdout",
     "output_type": "stream",
     "text": [
      "Best AIC: -6334.56256607811\n",
      "Best Order: (1, 2)\n",
      "                        Constant Mean - GARCH Model Results                         \n",
      "====================================================================================\n",
      "Dep. Variable:                        Close   R-squared:                       0.000\n",
      "Mean Model:                   Constant Mean   Adj. R-squared:                  0.000\n",
      "Vol Model:                            GARCH   Log-Likelihood:                3173.28\n",
      "Distribution:      Standardized Student's t   AIC:                          -6334.56\n",
      "Method:                  Maximum Likelihood   BIC:                          -6303.74\n",
      "                                              No. Observations:                 1258\n",
      "Date:                      Mon, Jun 10 2024   Df Residuals:                     1257\n",
      "Time:                              08:39:41   Df Model:                            1\n",
      "                                  Mean Model                                 \n",
      "=============================================================================\n",
      "                 coef    std err          t      P>|t|       95.0% Conf. Int.\n",
      "-----------------------------------------------------------------------------\n",
      "mu         8.0350e-04  4.633e-04      1.734  8.289e-02 [-1.046e-04,1.712e-03]\n",
      "                              Volatility Model                              \n",
      "============================================================================\n",
      "                 coef    std err          t      P>|t|      95.0% Conf. Int.\n",
      "----------------------------------------------------------------------------\n",
      "omega      4.3128e-06  1.929e-08    223.616      0.000 [4.275e-06,4.351e-06]\n",
      "alpha[1]       0.0581  4.651e-03     12.490  8.478e-36 [4.897e-02,6.720e-02]\n",
      "beta[1]        0.5405      0.455      1.187      0.235     [ -0.352,  1.433]\n",
      "beta[2]        0.3941      0.455      0.867      0.386     [ -0.497,  1.285]\n",
      "                              Distribution                              \n",
      "========================================================================\n",
      "                 coef    std err          t      P>|t|  95.0% Conf. Int.\n",
      "------------------------------------------------------------------------\n",
      "nu             5.3326      0.772      6.911  4.829e-12 [  3.820,  6.845]\n",
      "========================================================================\n",
      "\n",
      "Covariance estimator: robust\n"
     ]
    }
   ],
   "source": [
    "# Estimación de un modelo ARCH/GARCH con selección automática del órden\n",
    "best_aic = float('inf')\n",
    "best_order = None\n",
    "best_model = None\n",
    "\n",
    "for p in range(1, 5):\n",
    "    for q in range(1, 5):\n",
    "        try:\n",
    "            model = arch_model(df_returns, vol='Garch', p=p, q=q, dist='t', rescale='bool')\n",
    "            fitted_model = model.fit(disp='off')\n",
    "            if fitted_model.aic < best_aic:\n",
    "                best_aic = fitted_model.aic\n",
    "                best_order = (p, q)\n",
    "                best_model = fitted_model\n",
    "        except Exception as e:\n",
    "            continue\n",
    "\n",
    "print(f'Best AIC: {best_aic}')\n",
    "print(f'Best Order: {best_order}')\n",
    "print(best_model.summary())"
   ]
  },
  {
   "cell_type": "code",
   "execution_count": 42,
   "metadata": {
    "colab": {
     "base_uri": "https://localhost:8080/"
    },
    "executionInfo": {
     "elapsed": 9,
     "status": "ok",
     "timestamp": 1717370589007,
     "user": {
      "displayName": "Alejandro Vargas",
      "userId": "05034752351904629076"
     },
     "user_tz": 240
    },
    "id": "sc7ETQ2gyzcs",
    "outputId": "95bcc981-a78c-4a5f-f7a6-422e924e1cfb"
   },
   "outputs": [
    {
     "name": "stdout",
     "output_type": "stream",
     "text": [
      "Últimos rendimientos\n",
      "Date\n",
      "2024-06-03    0.010768\n",
      "2024-06-04    0.005607\n",
      "2024-06-05    0.010817\n",
      "2024-06-06    0.020521\n",
      "2024-06-07   -0.003784\n",
      "Name: Close, dtype: float64\n"
     ]
    }
   ],
   "source": [
    "# Extraer los últimos 5 valores de los rendimientos y de los residuos\n",
    "last_returns = df_returns.tail(5)\n",
    "print(\"Últimos rendimientos\")\n",
    "print(last_returns)"
   ]
  },
  {
   "cell_type": "code",
   "execution_count": 43,
   "metadata": {
    "colab": {
     "base_uri": "https://localhost:8080/"
    },
    "executionInfo": {
     "elapsed": 663,
     "status": "ok",
     "timestamp": 1717370589664,
     "user": {
      "displayName": "Alejandro Vargas",
      "userId": "05034752351904629076"
     },
     "user_tz": 240
    },
    "id": "oQWX-W8uzAFq",
    "outputId": "26fa81d6-9df3-4126-e1de-c8f84203578c"
   },
   "outputs": [
    {
     "name": "stdout",
     "output_type": "stream",
     "text": [
      "Últimos residuals:\n",
      "Date\n",
      "2024-06-03    0.009594\n",
      "2024-06-04    0.004433\n",
      "2024-06-05    0.009643\n",
      "2024-06-06    0.019346\n",
      "2024-06-07   -0.004958\n",
      "Name: resid, dtype: float64\n"
     ]
    }
   ],
   "source": [
    "last_residuals = residuals.tail(5)\n",
    "print(\"Últimos residuals:\")\n",
    "print(last_residuals)"
   ]
  },
  {
   "cell_type": "markdown",
   "metadata": {
    "id": "KusLubXN1FMZ"
   },
   "source": [
    "**8. CONCLUSIONES**"
   ]
  },
  {
   "cell_type": "markdown",
   "metadata": {
    "id": "WZ9oaHyX1JSg"
   },
   "source": [
    "Este cuaderno de trabajo en python, sirve efectivamente como una guía completa para comprender e implementar modelos de volatilidad univariados en econometría financiera. Siguiendo las secciones estructuradas, los usuarios pueden obtener una comprensión sólida de los fundamentos teóricos y las aplicaciones prácticas de los modelos ARCH y GARCH. El enfoque paso a paso de la herramienta, desde la recopilación de datos hasta la evaluación del modelo, garantiza que los usuarios puedan replicar y aplicar estas técnicas a sus conjuntos de datos. Las aplicaciones prácticas resaltan la importancia de estos modelos para pronosticar con precisión la volatilidad y gestionar los riesgos financieros, lo que los convierte en un recurso valioso para estudiantes, investigadores y profesionales en el campo de las finanzas."
   ]
  }
 ],
 "metadata": {
  "colab": {
   "provenance": []
  },
  "kernelspec": {
   "display_name": "Python 3 (ipykernel)",
   "language": "python",
   "name": "python3"
  },
  "language_info": {
   "codemirror_mode": {
    "name": "ipython",
    "version": 3
   },
   "file_extension": ".py",
   "mimetype": "text/x-python",
   "name": "python",
   "nbconvert_exporter": "python",
   "pygments_lexer": "ipython3",
   "version": "3.9.12"
  }
 },
 "nbformat": 4,
 "nbformat_minor": 1
}
